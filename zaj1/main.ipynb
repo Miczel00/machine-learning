{
 "cells": [
  {
   "cell_type": "code",
   "execution_count": 6,
   "metadata": {},
   "outputs": [],
   "source": [
    "import pandas as pd\n",
    "import matplotlib.pyplot as plt\n",
    "import numpy as np\n",
    "import seaborn as sns\n",
    "import math\n",
    "import statsmodels.api as sm"
   ]
  },
  {
   "cell_type": "code",
   "execution_count": 7,
   "metadata": {},
   "outputs": [],
   "source": [
    "dane_leki = pd.read_excel('dane_leki.xlsx')\n",
    "dane_leki = dane_leki.drop(\"Unnamed: 0\",axis=1)\n"
   ]
  },
  {
   "cell_type": "code",
   "execution_count": 8,
   "metadata": {},
   "outputs": [
    {
     "data": {
      "text/html": [
       "<div>\n",
       "<style scoped>\n",
       "    .dataframe tbody tr th:only-of-type {\n",
       "        vertical-align: middle;\n",
       "    }\n",
       "\n",
       "    .dataframe tbody tr th {\n",
       "        vertical-align: top;\n",
       "    }\n",
       "\n",
       "    .dataframe thead th {\n",
       "        text-align: right;\n",
       "    }\n",
       "</style>\n",
       "<table border=\"1\" class=\"dataframe\">\n",
       "  <thead>\n",
       "    <tr style=\"text-align: right;\">\n",
       "      <th></th>\n",
       "      <th>Nazwa</th>\n",
       "      <th>logK HSA</th>\n",
       "      <th>logKCTAB</th>\n",
       "      <th>CATS3D_00_DD</th>\n",
       "      <th>CATS3D_09_AL</th>\n",
       "      <th>CATS3D_00_AA</th>\n",
       "      <th>Zbiór</th>\n",
       "    </tr>\n",
       "  </thead>\n",
       "  <tbody>\n",
       "    <tr>\n",
       "      <th>0</th>\n",
       "      <td>acetaminophen</td>\n",
       "      <td>-0.79</td>\n",
       "      <td>-0.63</td>\n",
       "      <td>2</td>\n",
       "      <td>0</td>\n",
       "      <td>2</td>\n",
       "      <td>t</td>\n",
       "    </tr>\n",
       "    <tr>\n",
       "      <th>1</th>\n",
       "      <td>acetylsalicylic acid</td>\n",
       "      <td>-0.23</td>\n",
       "      <td>1.22</td>\n",
       "      <td>1</td>\n",
       "      <td>0</td>\n",
       "      <td>4</td>\n",
       "      <td>t</td>\n",
       "    </tr>\n",
       "    <tr>\n",
       "      <th>2</th>\n",
       "      <td>bromazepam</td>\n",
       "      <td>0.38</td>\n",
       "      <td>0.57</td>\n",
       "      <td>1</td>\n",
       "      <td>0</td>\n",
       "      <td>3</td>\n",
       "      <td>t</td>\n",
       "    </tr>\n",
       "    <tr>\n",
       "      <th>3</th>\n",
       "      <td>carbamazepine</td>\n",
       "      <td>0.69</td>\n",
       "      <td>0.68</td>\n",
       "      <td>0</td>\n",
       "      <td>0</td>\n",
       "      <td>3</td>\n",
       "      <td>t</td>\n",
       "    </tr>\n",
       "    <tr>\n",
       "      <th>4</th>\n",
       "      <td>chlorpromazine</td>\n",
       "      <td>1.18</td>\n",
       "      <td>1.50</td>\n",
       "      <td>0</td>\n",
       "      <td>0</td>\n",
       "      <td>2</td>\n",
       "      <td>t</td>\n",
       "    </tr>\n",
       "  </tbody>\n",
       "</table>\n",
       "</div>"
      ],
      "text/plain": [
       "                  Nazwa  logK HSA  logKCTAB  CATS3D_00_DD  CATS3D_09_AL  \\\n",
       "0         acetaminophen     -0.79     -0.63             2             0   \n",
       "1  acetylsalicylic acid     -0.23      1.22             1             0   \n",
       "2            bromazepam      0.38      0.57             1             0   \n",
       "3         carbamazepine      0.69      0.68             0             0   \n",
       "4        chlorpromazine      1.18      1.50             0             0   \n",
       "\n",
       "   CATS3D_00_AA Zbiór  \n",
       "0             2     t  \n",
       "1             4     t  \n",
       "2             3     t  \n",
       "3             3     t  \n",
       "4             2     t  "
      ]
     },
     "execution_count": 8,
     "metadata": {},
     "output_type": "execute_result"
    }
   ],
   "source": [
    "dane_leki.head()"
   ]
  },
  {
   "cell_type": "code",
   "execution_count": 9,
   "metadata": {},
   "outputs": [
    {
     "name": "stderr",
     "output_type": "stream",
     "text": [
      "C:\\Users\\Michał\\AppData\\Local\\Temp\\ipykernel_12120\\34077217.py:1: FutureWarning: The default value of numeric_only in DataFrame.corr is deprecated. In a future version, it will default to False. Select only valid columns or specify the value of numeric_only to silence this warning.\n",
      "  correla  = dane_leki.corr()\n"
     ]
    },
    {
     "data": {
      "text/html": [
       "<div>\n",
       "<style scoped>\n",
       "    .dataframe tbody tr th:only-of-type {\n",
       "        vertical-align: middle;\n",
       "    }\n",
       "\n",
       "    .dataframe tbody tr th {\n",
       "        vertical-align: top;\n",
       "    }\n",
       "\n",
       "    .dataframe thead th {\n",
       "        text-align: right;\n",
       "    }\n",
       "</style>\n",
       "<table border=\"1\" class=\"dataframe\">\n",
       "  <thead>\n",
       "    <tr style=\"text-align: right;\">\n",
       "      <th></th>\n",
       "      <th>logK HSA</th>\n",
       "      <th>logKCTAB</th>\n",
       "      <th>CATS3D_00_DD</th>\n",
       "      <th>CATS3D_09_AL</th>\n",
       "      <th>CATS3D_00_AA</th>\n",
       "    </tr>\n",
       "  </thead>\n",
       "  <tbody>\n",
       "    <tr>\n",
       "      <th>logK HSA</th>\n",
       "      <td>1.000000</td>\n",
       "      <td>0.799757</td>\n",
       "      <td>-0.720084</td>\n",
       "      <td>0.598914</td>\n",
       "      <td>-0.306897</td>\n",
       "    </tr>\n",
       "    <tr>\n",
       "      <th>logKCTAB</th>\n",
       "      <td>0.799757</td>\n",
       "      <td>1.000000</td>\n",
       "      <td>-0.633481</td>\n",
       "      <td>0.446144</td>\n",
       "      <td>-0.135951</td>\n",
       "    </tr>\n",
       "    <tr>\n",
       "      <th>CATS3D_00_DD</th>\n",
       "      <td>-0.720084</td>\n",
       "      <td>-0.633481</td>\n",
       "      <td>1.000000</td>\n",
       "      <td>-0.291248</td>\n",
       "      <td>0.290864</td>\n",
       "    </tr>\n",
       "    <tr>\n",
       "      <th>CATS3D_09_AL</th>\n",
       "      <td>0.598914</td>\n",
       "      <td>0.446144</td>\n",
       "      <td>-0.291248</td>\n",
       "      <td>1.000000</td>\n",
       "      <td>0.326375</td>\n",
       "    </tr>\n",
       "    <tr>\n",
       "      <th>CATS3D_00_AA</th>\n",
       "      <td>-0.306897</td>\n",
       "      <td>-0.135951</td>\n",
       "      <td>0.290864</td>\n",
       "      <td>0.326375</td>\n",
       "      <td>1.000000</td>\n",
       "    </tr>\n",
       "  </tbody>\n",
       "</table>\n",
       "</div>"
      ],
      "text/plain": [
       "              logK HSA  logKCTAB  CATS3D_00_DD  CATS3D_09_AL  CATS3D_00_AA\n",
       "logK HSA      1.000000  0.799757     -0.720084      0.598914     -0.306897\n",
       "logKCTAB      0.799757  1.000000     -0.633481      0.446144     -0.135951\n",
       "CATS3D_00_DD -0.720084 -0.633481      1.000000     -0.291248      0.290864\n",
       "CATS3D_09_AL  0.598914  0.446144     -0.291248      1.000000      0.326375\n",
       "CATS3D_00_AA -0.306897 -0.135951      0.290864      0.326375      1.000000"
      ]
     },
     "execution_count": 9,
     "metadata": {},
     "output_type": "execute_result"
    }
   ],
   "source": [
    "correla  = dane_leki.corr()\n",
    "correla "
   ]
  },
  {
   "cell_type": "markdown",
   "metadata": {},
   "source": [
    "CORRELATION "
   ]
  },
  {
   "cell_type": "code",
   "execution_count": null,
   "metadata": {},
   "outputs": [],
   "source": [
    "list_of_names = list(correla)\n",
    "for col_name in list_of_names:\n",
    "    for i,col_name_y in enumerate(list_of_names):\n",
    "        x = correla.get(col_name) \n",
    "        y = correla.iloc[i]\n",
    "        plt.scatter(x,y)\n",
    "        plt.xlabel(col_name)\n",
    "        plt.ylabel(col_name_y)\n",
    "        plt.show()\n"
   ]
  },
  {
   "cell_type": "markdown",
   "metadata": {},
   "source": [
    "HEATMAP"
   ]
  },
  {
   "cell_type": "code",
   "execution_count": 11,
   "metadata": {},
   "outputs": [
    {
     "data": {
      "image/png": "[encoded data removed]",
      "text/plain": [
       "<Figure size 640x480 with 2 Axes>"
      ]
     },
     "metadata": {},
     "output_type": "display_data"
    }
   ],
   "source": [
    "ax = sns.heatmap(correla, linewidth=0.5)\n",
    "plt.show()"
   ]
  },
  {
   "cell_type": "markdown",
   "metadata": {},
   "source": [
    "RÓWNANIE MODELU "
   ]
  },
  {
   "cell_type": "code",
   "execution_count": 12,
   "metadata": {},
   "outputs": [],
   "source": [
    "treningowe = dane_leki[dane_leki['Zbiór']=='t']"
   ]
  },
  {
   "cell_type": "code",
   "execution_count": 13,
   "metadata": {},
   "outputs": [
    {
     "data": {
      "text/html": [
       "<div>\n",
       "<style scoped>\n",
       "    .dataframe tbody tr th:only-of-type {\n",
       "        vertical-align: middle;\n",
       "    }\n",
       "\n",
       "    .dataframe tbody tr th {\n",
       "        vertical-align: top;\n",
       "    }\n",
       "\n",
       "    .dataframe thead th {\n",
       "        text-align: right;\n",
       "    }\n",
       "</style>\n",
       "<table border=\"1\" class=\"dataframe\">\n",
       "  <thead>\n",
       "    <tr style=\"text-align: right;\">\n",
       "      <th></th>\n",
       "      <th>Nazwa</th>\n",
       "      <th>logK HSA</th>\n",
       "      <th>logKCTAB</th>\n",
       "      <th>CATS3D_00_DD</th>\n",
       "      <th>CATS3D_09_AL</th>\n",
       "      <th>CATS3D_00_AA</th>\n",
       "      <th>Zbiór</th>\n",
       "    </tr>\n",
       "  </thead>\n",
       "  <tbody>\n",
       "    <tr>\n",
       "      <th>0</th>\n",
       "      <td>acetaminophen</td>\n",
       "      <td>-0.79</td>\n",
       "      <td>-0.63</td>\n",
       "      <td>2</td>\n",
       "      <td>0</td>\n",
       "      <td>2</td>\n",
       "      <td>t</td>\n",
       "    </tr>\n",
       "    <tr>\n",
       "      <th>1</th>\n",
       "      <td>acetylsalicylic acid</td>\n",
       "      <td>-0.23</td>\n",
       "      <td>1.22</td>\n",
       "      <td>1</td>\n",
       "      <td>0</td>\n",
       "      <td>4</td>\n",
       "      <td>t</td>\n",
       "    </tr>\n",
       "    <tr>\n",
       "      <th>2</th>\n",
       "      <td>bromazepam</td>\n",
       "      <td>0.38</td>\n",
       "      <td>0.57</td>\n",
       "      <td>1</td>\n",
       "      <td>0</td>\n",
       "      <td>3</td>\n",
       "      <td>t</td>\n",
       "    </tr>\n",
       "    <tr>\n",
       "      <th>3</th>\n",
       "      <td>carbamazepine</td>\n",
       "      <td>0.69</td>\n",
       "      <td>0.68</td>\n",
       "      <td>0</td>\n",
       "      <td>0</td>\n",
       "      <td>3</td>\n",
       "      <td>t</td>\n",
       "    </tr>\n",
       "    <tr>\n",
       "      <th>4</th>\n",
       "      <td>chlorpromazine</td>\n",
       "      <td>1.18</td>\n",
       "      <td>1.50</td>\n",
       "      <td>0</td>\n",
       "      <td>0</td>\n",
       "      <td>2</td>\n",
       "      <td>t</td>\n",
       "    </tr>\n",
       "  </tbody>\n",
       "</table>\n",
       "</div>"
      ],
      "text/plain": [
       "                  Nazwa  logK HSA  logKCTAB  CATS3D_00_DD  CATS3D_09_AL  \\\n",
       "0         acetaminophen     -0.79     -0.63             2             0   \n",
       "1  acetylsalicylic acid     -0.23      1.22             1             0   \n",
       "2            bromazepam      0.38      0.57             1             0   \n",
       "3         carbamazepine      0.69      0.68             0             0   \n",
       "4        chlorpromazine      1.18      1.50             0             0   \n",
       "\n",
       "   CATS3D_00_AA Zbiór  \n",
       "0             2     t  \n",
       "1             4     t  \n",
       "2             3     t  \n",
       "3             3     t  \n",
       "4             2     t  "
      ]
     },
     "execution_count": 13,
     "metadata": {},
     "output_type": "execute_result"
    }
   ],
   "source": [
    "treningowe.head()"
   ]
  },
  {
   "cell_type": "markdown",
   "metadata": {},
   "source": [
    "R^2"
   ]
  },
  {
   "cell_type": "code",
   "execution_count": 14,
   "metadata": {},
   "outputs": [
    {
     "name": "stdout",
     "output_type": "stream",
     "text": [
      "                            OLS Regression Results                            \n",
      "==============================================================================\n",
      "Dep. Variable:               logK HSA   R-squared:                       0.803\n",
      "Model:                            OLS   Adj. R-squared:                  0.746\n",
      "Method:                 Least Squares   F-statistic:                     14.23\n",
      "Date:                Tue, 06 Dec 2022   Prob (F-statistic):           7.72e-05\n",
      "Time:                        23:02:10   Log-Likelihood:                -10.796\n",
      "No. Observations:                  19   AIC:                             31.59\n",
      "Df Residuals:                      14   BIC:                             36.31\n",
      "Df Model:                           4                                         \n",
      "Covariance Type:            nonrobust                                         \n",
      "================================================================================\n",
      "                   coef    std err          t      P>|t|      [0.025      0.975]\n",
      "--------------------------------------------------------------------------------\n",
      "const            0.8050      0.421      1.914      0.076      -0.097       1.707\n",
      "logKCTAB         0.4722      0.266      1.776      0.097      -0.098       1.043\n",
      "CATS3D_00_DD    -0.2161      0.166     -1.298      0.215      -0.573       0.141\n",
      "CATS3D_09_AL     0.3232      0.096      3.367      0.005       0.117       0.529\n",
      "CATS3D_00_AA    -0.2253      0.079     -2.842      0.013      -0.395      -0.055\n",
      "==============================================================================\n",
      "Omnibus:                        0.910   Durbin-Watson:                   1.995\n",
      "Prob(Omnibus):                  0.635   Jarque-Bera (JB):                0.878\n",
      "Skew:                          -0.391   Prob(JB):                        0.645\n",
      "Kurtosis:                       2.294   Cond. No.                         19.5\n",
      "==============================================================================\n",
      "\n",
      "Notes:\n",
      "[1] Standard Errors assume that the covariance matrix of the errors is correctly specified.\n"
     ]
    },
    {
     "name": "stderr",
     "output_type": "stream",
     "text": [
      "C:\\Users\\Michał\\AppData\\Roaming\\Python\\Python39\\site-packages\\scipy\\stats\\_stats_py.py:1772: UserWarning: kurtosistest only valid for n>=20 ... continuing anyway, n=19\n",
      "  warnings.warn(\"kurtosistest only valid for n>=20 ... continuing \"\n"
     ]
    }
   ],
   "source": [
    "X = pd.DataFrame(treningowe[['logKCTAB','CATS3D_00_DD','CATS3D_09_AL','CATS3D_00_AA']])\n",
    "Y = pd.DataFrame(treningowe['logK HSA'])\n",
    "X = sm.add_constant(X)\n",
    "statOLS = sm.OLS(Y,X).fit()\n",
    "print(statOLS.summary())\n"
   ]
  },
  {
   "cell_type": "markdown",
   "metadata": {},
   "source": [
    "RÓWNANIE MODELU"
   ]
  },
  {
   "cell_type": "markdown",
   "metadata": {},
   "source": [
    "równanie_modelu=0.8050+0.4722*logKCTAB +(-0.2161 )*CATS3D_00_DD+0.3232 *CATS3D_09_AL+-0.2253*CATS3D_00_AA"
   ]
  },
  {
   "cell_type": "code",
   "execution_count": 15,
   "metadata": {},
   "outputs": [
    {
     "data": {
      "text/html": [
       "<div>\n",
       "<style scoped>\n",
       "    .dataframe tbody tr th:only-of-type {\n",
       "        vertical-align: middle;\n",
       "    }\n",
       "\n",
       "    .dataframe tbody tr th {\n",
       "        vertical-align: top;\n",
       "    }\n",
       "\n",
       "    .dataframe thead th {\n",
       "        text-align: right;\n",
       "    }\n",
       "</style>\n",
       "<table border=\"1\" class=\"dataframe\">\n",
       "  <thead>\n",
       "    <tr style=\"text-align: right;\">\n",
       "      <th></th>\n",
       "      <th>Nazwa</th>\n",
       "      <th>logK HSA</th>\n",
       "      <th>logKCTAB</th>\n",
       "      <th>CATS3D_00_DD</th>\n",
       "      <th>CATS3D_09_AL</th>\n",
       "      <th>CATS3D_00_AA</th>\n",
       "      <th>Zbiór</th>\n",
       "      <th>y_pred</th>\n",
       "    </tr>\n",
       "  </thead>\n",
       "  <tbody>\n",
       "    <tr>\n",
       "      <th>0</th>\n",
       "      <td>acetaminophen</td>\n",
       "      <td>-0.79</td>\n",
       "      <td>-0.63</td>\n",
       "      <td>2</td>\n",
       "      <td>0</td>\n",
       "      <td>2</td>\n",
       "      <td>t</td>\n",
       "      <td>-0.375286</td>\n",
       "    </tr>\n",
       "    <tr>\n",
       "      <th>1</th>\n",
       "      <td>acetylsalicylic acid</td>\n",
       "      <td>-0.23</td>\n",
       "      <td>1.22</td>\n",
       "      <td>1</td>\n",
       "      <td>0</td>\n",
       "      <td>4</td>\n",
       "      <td>t</td>\n",
       "      <td>0.263784</td>\n",
       "    </tr>\n",
       "    <tr>\n",
       "      <th>2</th>\n",
       "      <td>bromazepam</td>\n",
       "      <td>0.38</td>\n",
       "      <td>0.57</td>\n",
       "      <td>1</td>\n",
       "      <td>0</td>\n",
       "      <td>3</td>\n",
       "      <td>t</td>\n",
       "      <td>0.182154</td>\n",
       "    </tr>\n",
       "    <tr>\n",
       "      <th>3</th>\n",
       "      <td>carbamazepine</td>\n",
       "      <td>0.69</td>\n",
       "      <td>0.68</td>\n",
       "      <td>0</td>\n",
       "      <td>0</td>\n",
       "      <td>3</td>\n",
       "      <td>t</td>\n",
       "      <td>0.450196</td>\n",
       "    </tr>\n",
       "    <tr>\n",
       "      <th>4</th>\n",
       "      <td>chlorpromazine</td>\n",
       "      <td>1.18</td>\n",
       "      <td>1.50</td>\n",
       "      <td>0</td>\n",
       "      <td>0</td>\n",
       "      <td>2</td>\n",
       "      <td>t</td>\n",
       "      <td>1.062700</td>\n",
       "    </tr>\n",
       "    <tr>\n",
       "      <th>5</th>\n",
       "      <td>clonidine</td>\n",
       "      <td>-0.42</td>\n",
       "      <td>0.26</td>\n",
       "      <td>2</td>\n",
       "      <td>0</td>\n",
       "      <td>1</td>\n",
       "      <td>t</td>\n",
       "      <td>0.270272</td>\n",
       "    </tr>\n",
       "    <tr>\n",
       "      <th>6</th>\n",
       "      <td>diazepam</td>\n",
       "      <td>1.08</td>\n",
       "      <td>1.25</td>\n",
       "      <td>0</td>\n",
       "      <td>0</td>\n",
       "      <td>3</td>\n",
       "      <td>t</td>\n",
       "      <td>0.719350</td>\n",
       "    </tr>\n",
       "    <tr>\n",
       "      <th>7</th>\n",
       "      <td>diltiazem</td>\n",
       "      <td>0.06</td>\n",
       "      <td>1.09</td>\n",
       "      <td>0</td>\n",
       "      <td>3</td>\n",
       "      <td>6</td>\n",
       "      <td>t</td>\n",
       "      <td>0.937498</td>\n",
       "    </tr>\n",
       "    <tr>\n",
       "      <th>8</th>\n",
       "      <td>diphenhydramine</td>\n",
       "      <td>0.08</td>\n",
       "      <td>0.46</td>\n",
       "      <td>0</td>\n",
       "      <td>0</td>\n",
       "      <td>2</td>\n",
       "      <td>t</td>\n",
       "      <td>0.571612</td>\n",
       "    </tr>\n",
       "    <tr>\n",
       "      <th>9</th>\n",
       "      <td>fluoxetine</td>\n",
       "      <td>1.39</td>\n",
       "      <td>0.73</td>\n",
       "      <td>1</td>\n",
       "      <td>0</td>\n",
       "      <td>1</td>\n",
       "      <td>t</td>\n",
       "      <td>0.708306</td>\n",
       "    </tr>\n",
       "    <tr>\n",
       "      <th>10</th>\n",
       "      <td>flurbiprofen</td>\n",
       "      <td>2.05</td>\n",
       "      <td>1.45</td>\n",
       "      <td>1</td>\n",
       "      <td>3</td>\n",
       "      <td>2</td>\n",
       "      <td>t</td>\n",
       "      <td>1.792590</td>\n",
       "    </tr>\n",
       "    <tr>\n",
       "      <th>11</th>\n",
       "      <td>imipramine</td>\n",
       "      <td>0.67</td>\n",
       "      <td>0.57</td>\n",
       "      <td>0</td>\n",
       "      <td>0</td>\n",
       "      <td>2</td>\n",
       "      <td>t</td>\n",
       "      <td>0.623554</td>\n",
       "    </tr>\n",
       "    <tr>\n",
       "      <th>12</th>\n",
       "      <td>ketoconazole</td>\n",
       "      <td>1.06</td>\n",
       "      <td>1.48</td>\n",
       "      <td>0</td>\n",
       "      <td>4</td>\n",
       "      <td>8</td>\n",
       "      <td>t</td>\n",
       "      <td>0.994256</td>\n",
       "    </tr>\n",
       "    <tr>\n",
       "      <th>13</th>\n",
       "      <td>ketoprofen</td>\n",
       "      <td>1.42</td>\n",
       "      <td>1.25</td>\n",
       "      <td>1</td>\n",
       "      <td>3</td>\n",
       "      <td>3</td>\n",
       "      <td>t</td>\n",
       "      <td>1.472850</td>\n",
       "    </tr>\n",
       "    <tr>\n",
       "      <th>14</th>\n",
       "      <td>metronidazole</td>\n",
       "      <td>-1.25</td>\n",
       "      <td>-0.97</td>\n",
       "      <td>2</td>\n",
       "      <td>0</td>\n",
       "      <td>6</td>\n",
       "      <td>t</td>\n",
       "      <td>-1.437034</td>\n",
       "    </tr>\n",
       "    <tr>\n",
       "      <th>15</th>\n",
       "      <td>nizatidine</td>\n",
       "      <td>-0.60</td>\n",
       "      <td>-0.63</td>\n",
       "      <td>3</td>\n",
       "      <td>0</td>\n",
       "      <td>5</td>\n",
       "      <td>t</td>\n",
       "      <td>-1.267286</td>\n",
       "    </tr>\n",
       "    <tr>\n",
       "      <th>16</th>\n",
       "      <td>propranolol</td>\n",
       "      <td>0.20</td>\n",
       "      <td>0.30</td>\n",
       "      <td>2</td>\n",
       "      <td>0</td>\n",
       "      <td>2</td>\n",
       "      <td>t</td>\n",
       "      <td>0.063860</td>\n",
       "    </tr>\n",
       "    <tr>\n",
       "      <th>17</th>\n",
       "      <td>ranitidine</td>\n",
       "      <td>-0.68</td>\n",
       "      <td>-0.03</td>\n",
       "      <td>3</td>\n",
       "      <td>2</td>\n",
       "      <td>5</td>\n",
       "      <td>t</td>\n",
       "      <td>-0.337566</td>\n",
       "    </tr>\n",
       "    <tr>\n",
       "      <th>18</th>\n",
       "      <td>trazodone</td>\n",
       "      <td>2.29</td>\n",
       "      <td>1.04</td>\n",
       "      <td>0</td>\n",
       "      <td>6</td>\n",
       "      <td>6</td>\n",
       "      <td>t</td>\n",
       "      <td>1.883488</td>\n",
       "    </tr>\n",
       "    <tr>\n",
       "      <th>19</th>\n",
       "      <td>acyclovir</td>\n",
       "      <td>-1.25</td>\n",
       "      <td>-0.11</td>\n",
       "      <td>3</td>\n",
       "      <td>0</td>\n",
       "      <td>6</td>\n",
       "      <td>w</td>\n",
       "      <td>-1.247042</td>\n",
       "    </tr>\n",
       "    <tr>\n",
       "      <th>20</th>\n",
       "      <td>diclofenac</td>\n",
       "      <td>1.69</td>\n",
       "      <td>1.98</td>\n",
       "      <td>0</td>\n",
       "      <td>1</td>\n",
       "      <td>3</td>\n",
       "      <td>w</td>\n",
       "      <td>1.387256</td>\n",
       "    </tr>\n",
       "    <tr>\n",
       "      <th>21</th>\n",
       "      <td>famotidine</td>\n",
       "      <td>-0.77</td>\n",
       "      <td>0.01</td>\n",
       "      <td>4</td>\n",
       "      <td>1</td>\n",
       "      <td>5</td>\n",
       "      <td>w</td>\n",
       "      <td>-0.857978</td>\n",
       "    </tr>\n",
       "    <tr>\n",
       "      <th>22</th>\n",
       "      <td>ibuprofen</td>\n",
       "      <td>1.84</td>\n",
       "      <td>0.73</td>\n",
       "      <td>0</td>\n",
       "      <td>5</td>\n",
       "      <td>2</td>\n",
       "      <td>w</td>\n",
       "      <td>2.315106</td>\n",
       "    </tr>\n",
       "    <tr>\n",
       "      <th>23</th>\n",
       "      <td>indomethacin</td>\n",
       "      <td>1.82</td>\n",
       "      <td>1.63</td>\n",
       "      <td>1</td>\n",
       "      <td>4</td>\n",
       "      <td>5</td>\n",
       "      <td>w</td>\n",
       "      <td>1.524886</td>\n",
       "    </tr>\n",
       "    <tr>\n",
       "      <th>24</th>\n",
       "      <td>methylprednisolone</td>\n",
       "      <td>0.08</td>\n",
       "      <td>1.32</td>\n",
       "      <td>3</td>\n",
       "      <td>2</td>\n",
       "      <td>5</td>\n",
       "      <td>w</td>\n",
       "      <td>0.299904</td>\n",
       "    </tr>\n",
       "    <tr>\n",
       "      <th>25</th>\n",
       "      <td>quinidine</td>\n",
       "      <td>0.20</td>\n",
       "      <td>0.47</td>\n",
       "      <td>1</td>\n",
       "      <td>2</td>\n",
       "      <td>4</td>\n",
       "      <td>w</td>\n",
       "      <td>0.556034</td>\n",
       "    </tr>\n",
       "    <tr>\n",
       "      <th>26</th>\n",
       "      <td>zidovudine</td>\n",
       "      <td>-1.25</td>\n",
       "      <td>-0.43</td>\n",
       "      <td>3</td>\n",
       "      <td>0</td>\n",
       "      <td>7</td>\n",
       "      <td>w</td>\n",
       "      <td>-1.623446</td>\n",
       "    </tr>\n",
       "  </tbody>\n",
       "</table>\n",
       "</div>"
      ],
      "text/plain": [
       "                   Nazwa  logK HSA  logKCTAB  CATS3D_00_DD  CATS3D_09_AL  \\\n",
       "0          acetaminophen     -0.79     -0.63             2             0   \n",
       "1   acetylsalicylic acid     -0.23      1.22             1             0   \n",
       "2             bromazepam      0.38      0.57             1             0   \n",
       "3          carbamazepine      0.69      0.68             0             0   \n",
       "4         chlorpromazine      1.18      1.50             0             0   \n",
       "5              clonidine     -0.42      0.26             2             0   \n",
       "6               diazepam      1.08      1.25             0             0   \n",
       "7              diltiazem      0.06      1.09             0             3   \n",
       "8        diphenhydramine      0.08      0.46             0             0   \n",
       "9             fluoxetine      1.39      0.73             1             0   \n",
       "10          flurbiprofen      2.05      1.45             1             3   \n",
       "11            imipramine      0.67      0.57             0             0   \n",
       "12          ketoconazole      1.06      1.48             0             4   \n",
       "13            ketoprofen      1.42      1.25             1             3   \n",
       "14         metronidazole     -1.25     -0.97             2             0   \n",
       "15            nizatidine     -0.60     -0.63             3             0   \n",
       "16           propranolol      0.20      0.30             2             0   \n",
       "17            ranitidine     -0.68     -0.03             3             2   \n",
       "18             trazodone      2.29      1.04             0             6   \n",
       "19             acyclovir     -1.25     -0.11             3             0   \n",
       "20            diclofenac      1.69      1.98             0             1   \n",
       "21            famotidine     -0.77      0.01             4             1   \n",
       "22             ibuprofen      1.84      0.73             0             5   \n",
       "23          indomethacin      1.82      1.63             1             4   \n",
       "24    methylprednisolone      0.08      1.32             3             2   \n",
       "25             quinidine      0.20      0.47             1             2   \n",
       "26            zidovudine     -1.25     -0.43             3             0   \n",
       "\n",
       "    CATS3D_00_AA Zbiór    y_pred  \n",
       "0              2     t -0.375286  \n",
       "1              4     t  0.263784  \n",
       "2              3     t  0.182154  \n",
       "3              3     t  0.450196  \n",
       "4              2     t  1.062700  \n",
       "5              1     t  0.270272  \n",
       "6              3     t  0.719350  \n",
       "7              6     t  0.937498  \n",
       "8              2     t  0.571612  \n",
       "9              1     t  0.708306  \n",
       "10             2     t  1.792590  \n",
       "11             2     t  0.623554  \n",
       "12             8     t  0.994256  \n",
       "13             3     t  1.472850  \n",
       "14             6     t -1.437034  \n",
       "15             5     t -1.267286  \n",
       "16             2     t  0.063860  \n",
       "17             5     t -0.337566  \n",
       "18             6     t  1.883488  \n",
       "19             6     w -1.247042  \n",
       "20             3     w  1.387256  \n",
       "21             5     w -0.857978  \n",
       "22             2     w  2.315106  \n",
       "23             5     w  1.524886  \n",
       "24             5     w  0.299904  \n",
       "25             4     w  0.556034  \n",
       "26             7     w -1.623446  "
      ]
     },
     "execution_count": 15,
     "metadata": {},
     "output_type": "execute_result"
    }
   ],
   "source": [
    "y_pred = 0.8050 + 0.4722*dane_leki['logKCTAB'] + (-0.2161 * dane_leki['CATS3D_00_DD']+0.3232*dane_leki['CATS3D_09_AL']+ (-0.2253*dane_leki['CATS3D_00_AA']))\n",
    "y_pred\n",
    "dane_leki['y_pred'] = y_pred\n",
    "dane_leki"
   ]
  },
  {
   "cell_type": "markdown",
   "metadata": {},
   "source": [
    "RMSE_c - treningowy\n"
   ]
  },
  {
   "cell_type": "code",
   "execution_count": 16,
   "metadata": {},
   "outputs": [
    {
     "name": "stdout",
     "output_type": "stream",
     "text": [
      "Root Mean Square Error:\n",
      "\n",
      "0.4271069323369919\n"
     ]
    }
   ],
   "source": [
    "logKHSA = dane_leki['logK HSA']\n",
    "MSE = np.square(np.subtract(logKHSA[dane_leki['Zbiór']=='t'],y_pred[dane_leki['Zbiór'] == 't'])).mean() \n",
    " \n",
    "RMSE = math.sqrt(MSE)\n",
    "print(\"Root Mean Square Error:\\n\")\n",
    "print(RMSE)"
   ]
  },
  {
   "cell_type": "markdown",
   "metadata": {},
   "source": [
    "RMSE_ex - testowy "
   ]
  },
  {
   "cell_type": "code",
   "execution_count": 17,
   "metadata": {},
   "outputs": [
    {
     "name": "stdout",
     "output_type": "stream",
     "text": [
      "Root Mean Square Error:\n",
      "\n",
      "0.30141347956420267\n"
     ]
    }
   ],
   "source": [
    "logKHSA = dane_leki['logK HSA']\n",
    "MSE = np.square(np.subtract(logKHSA[dane_leki['Zbiór']=='w'],y_pred[dane_leki['Zbiór'] == 'w'])).mean() \n",
    " \n",
    "RMSE = math.sqrt(MSE)\n",
    "print(\"Root Mean Square Error:\\n\")\n",
    "print(RMSE)"
   ]
  },
  {
   "cell_type": "markdown",
   "metadata": {},
   "source": [
    "Q_2ex\n"
   ]
  },
  {
   "cell_type": "code",
   "execution_count": 18,
   "metadata": {},
   "outputs": [],
   "source": [
    "def Q_2():\n",
    "    y_pred_w = y_pred[dane_leki['Zbiór']=='w']\n",
    "    mean_pred = y_pred_w.mean()\n",
    "    licznik__ = y_pred_w[dane_leki['Zbiór']=='w'] - logKHSA[dane_leki['Zbiór']=='w']\n",
    "    licznik = sum(licznik__**2)\n",
    "    mianownik__ = y_pred_w - mean_pred\n",
    "    mianownik = sum(mianownik__**2)\n",
    "    return 1 - (licznik / mianownik)"
   ]
  },
  {
   "cell_type": "code",
   "execution_count": 19,
   "metadata": {},
   "outputs": [
    {
     "data": {
      "text/plain": [
       "0.9489689299070292"
      ]
     },
     "execution_count": 19,
     "metadata": {},
     "output_type": "execute_result"
    }
   ],
   "source": [
    "Q_2()"
   ]
  },
  {
   "cell_type": "markdown",
   "metadata": {},
   "source": [
    "WYKRES WILLIAMSA"
   ]
  },
  {
   "cell_type": "code",
   "execution_count": 20,
   "metadata": {},
   "outputs": [
    {
     "data": {
      "text/plain": [
       "0.7894736842105263"
      ]
     },
     "execution_count": 20,
     "metadata": {},
     "output_type": "execute_result"
    }
   ],
   "source": [
    "h = 3*(4 + 1) / 19 # bo ze zbioru t\n",
    "h"
   ]
  },
  {
   "cell_type": "code",
   "execution_count": 21,
   "metadata": {},
   "outputs": [
    {
     "name": "stderr",
     "output_type": "stream",
     "text": [
      "C:\\Users\\Michał\\AppData\\Local\\Temp\\ipykernel_12120\\3323564304.py:7: MatplotlibDeprecationWarning: The seaborn styles shipped by Matplotlib are deprecated since 3.6, as they no longer correspond to the styles shipped by seaborn. However, they will remain available as 'seaborn-v0_8-<style>'. Alternatively, directly use the seaborn API instead.\n",
      "  plt.style.use('seaborn') # pretty matplotlib plots\n"
     ]
    }
   ],
   "source": [
    "import numpy as np\n",
    "import pandas as pd\n",
    "import seaborn as sns\n",
    "import statsmodels.api as sm\n",
    "import matplotlib.pyplot as plt\n",
    "from statsmodels.graphics.gofplots import ProbPlot\n",
    "plt.style.use('seaborn') # pretty matplotlib plots\n",
    "plt.rc('font', size=14)\n",
    "plt.rc('figure', titlesize=18)\n",
    "plt.rc('axes', labelsize=15)\n",
    "plt.rc('axes', titlesize=18)"
   ]
  },
  {
   "cell_type": "code",
   "execution_count": 22,
   "metadata": {},
   "outputs": [],
   "source": [
    "X_ols = treningowe[[\"logKCTAB\",\"CATS3D_00_DD\",'CATS3D_09_AL','CATS3D_00_AA']]\n",
    "Y_ols = treningowe[['logK HSA']] "
   ]
  },
  {
   "cell_type": "code",
   "execution_count": 23,
   "metadata": {},
   "outputs": [],
   "source": [
    "X = X_ols\n",
    "y = Y_ols\n",
    "\n",
    "\n",
    "# generate OLS model\n",
    "model = sm.OLS(y, sm.add_constant(X))\n",
    "model_fit = model.fit()\n",
    "\n",
    "# create dataframe from X, y for easier plot handling\n",
    "dataframe = pd.concat([X, y], axis=1)"
   ]
  },
  {
   "cell_type": "code",
   "execution_count": 24,
   "metadata": {},
   "outputs": [
    {
     "name": "stdout",
     "output_type": "stream",
     "text": [
      "                            OLS Regression Results                            \n",
      "==============================================================================\n",
      "Dep. Variable:               logK HSA   R-squared:                       0.803\n",
      "Model:                            OLS   Adj. R-squared:                  0.746\n",
      "Method:                 Least Squares   F-statistic:                     14.23\n",
      "Date:                Tue, 06 Dec 2022   Prob (F-statistic):           7.72e-05\n",
      "Time:                        23:02:11   Log-Likelihood:                -10.796\n",
      "No. Observations:                  19   AIC:                             31.59\n",
      "Df Residuals:                      14   BIC:                             36.31\n",
      "Df Model:                           4                                         \n",
      "Covariance Type:            nonrobust                                         \n",
      "================================================================================\n",
      "                   coef    std err          t      P>|t|      [0.025      0.975]\n",
      "--------------------------------------------------------------------------------\n",
      "const            0.8050      0.421      1.914      0.076      -0.097       1.707\n",
      "logKCTAB         0.4722      0.266      1.776      0.097      -0.098       1.043\n",
      "CATS3D_00_DD    -0.2161      0.166     -1.298      0.215      -0.573       0.141\n",
      "CATS3D_09_AL     0.3232      0.096      3.367      0.005       0.117       0.529\n",
      "CATS3D_00_AA    -0.2253      0.079     -2.842      0.013      -0.395      -0.055\n",
      "==============================================================================\n",
      "Omnibus:                        0.910   Durbin-Watson:                   1.995\n",
      "Prob(Omnibus):                  0.635   Jarque-Bera (JB):                0.878\n",
      "Skew:                          -0.391   Prob(JB):                        0.645\n",
      "Kurtosis:                       2.294   Cond. No.                         19.5\n",
      "==============================================================================\n",
      "\n",
      "Notes:\n",
      "[1] Standard Errors assume that the covariance matrix of the errors is correctly specified.\n"
     ]
    },
    {
     "name": "stderr",
     "output_type": "stream",
     "text": [
      "C:\\Users\\Michał\\AppData\\Roaming\\Python\\Python39\\site-packages\\scipy\\stats\\_stats_py.py:1772: UserWarning: kurtosistest only valid for n>=20 ... continuing anyway, n=19\n",
      "  warnings.warn(\"kurtosistest only valid for n>=20 ... continuing \"\n"
     ]
    }
   ],
   "source": [
    "print(model_fit.summary())"
   ]
  },
  {
   "cell_type": "markdown",
   "metadata": {},
   "source": [
    "Williams"
   ]
  },
  {
   "cell_type": "code",
   "execution_count": 25,
   "metadata": {},
   "outputs": [],
   "source": [
    "X_ols = dane_leki[[\"logKCTAB\",\"CATS3D_00_DD\",'CATS3D_09_AL','CATS3D_00_AA']]\n",
    "Y_ols = dane_leki[['logK HSA']] "
   ]
  },
  {
   "cell_type": "code",
   "execution_count": 26,
   "metadata": {},
   "outputs": [],
   "source": [
    "X = X_ols\n",
    "y = Y_ols\n",
    "\n",
    "\n",
    "# generate OLS model\n",
    "model = sm.OLS(y, sm.add_constant(X))\n",
    "model_fit = model.fit()\n",
    "\n",
    "# create dataframe from X, y for easier plot handling\n",
    "dataframe = pd.concat([X, y], axis=1)"
   ]
  },
  {
   "cell_type": "code",
   "execution_count": 27,
   "metadata": {},
   "outputs": [
    {
     "data": {
      "text/plain": [
       "<Figure size 800x550 with 0 Axes>"
      ]
     },
     "metadata": {},
     "output_type": "display_data"
    }
   ],
   "source": [
    "# model values\n",
    "model_fitted_y = model_fit.fittedvalues\n",
    "# model residuals\n",
    "model_residuals = model_fit.resid\n",
    "# normalized residuals\n",
    "model_norm_residuals = model_fit.get_influence().resid_studentized_internal\n",
    "# absolute squared normalized residuals\n",
    "model_norm_residuals_abs_sqrt = np.sqrt(np.abs(model_norm_residuals))\n",
    "# absolute residuals\n",
    "model_abs_resid = np.abs(model_residuals)\n",
    "# leverage, from statsmodels internals\n",
    "model_leverage = model_fit.get_influence().hat_matrix_diag\n",
    "# cook's distance, from statsmodels internals\n",
    "model_cooks = model_fit.get_influence().cooks_distance[0]\n",
    "\n",
    "plot_lm_1 = plt.figure()\n",
    "# plot_lm_1.axes[0] = sns.residplot(model_fitted_y, dataframe.columns[-1], data=dataframe,\n",
    "#                           lowess=True,\n",
    "#                           scatter_kws={'alpha': 0.5},\n",
    "#                           line_kws={'color': 'red', 'lw': 1, 'alpha': 0.8})\n",
    "\n"
   ]
  },
  {
   "cell_type": "code",
   "execution_count": 28,
   "metadata": {},
   "outputs": [
    {
     "data": {
      "image/png": "[encoded data removed]",
      "text/plain": [
       "<Figure size 1500x1200 with 1 Axes>"
      ]
     },
     "metadata": {},
     "output_type": "display_data"
    }
   ],
   "source": [
    "xs = np.linspace(1, 21, 200)\n",
    "plot_lm_4 = plt.figure(figsize=(15,12));\n",
    "plt.scatter(model_leverage, model_norm_residuals, alpha=0.5)\n",
    "plt.hlines(y=[-2, 0, -2], xmin=[0, 25, 50], xmax=[len(xs)], colors='purple', linestyles='--', lw=2, label='Multiple Lines')\n",
    "plt.hlines(y=[2, 0, -2], xmin=[0, 25, 50], xmax=[len(xs)], colors='purple', linestyles='--', lw=2, label='Multiple Lines')\n",
    "plt.axvline(x=h)\n",
    "#sns.regplot(model_leverage, model_norm_residuals,\n",
    "#            scatter=False,\n",
    "#            ci=False,\n",
    "#            lowess=True,\n",
    "#            line_kws={'color': 'red', 'lw': 1, 'alpha': 0.8});\n",
    "plot_lm_4.axes[0].set_xlim(0, max(model_leverage)+0.35)\n",
    "plot_lm_4.axes[0].set_ylim(-3, 5)\n",
    "plot_lm_4.axes[0].set_title('Residuals vs Leverage')\n",
    "plot_lm_4.axes[0].set_xlabel('Leverage')\n",
    "plot_lm_4.axes[0].set_ylabel('Standardized Residuals');\n",
    "\n",
    "# annotations\n",
    "leverage_top_3 = np.flip(np.argsort(model_cooks), 0)[:]\n",
    "for x,i in enumerate(leverage_top_3):\n",
    "    if x<17:\n",
    "        plot_lm_4.axes[0].annotate(i,\n",
    "                                xy=(model_leverage[i],\n",
    "                                    model_norm_residuals[i]),color='green')\n",
    "    else: \n",
    "        plot_lm_4.axes[0].annotate(i,\n",
    "                               xy=(model_leverage[i],\n",
    "                                   model_norm_residuals[i]),color='red')"
   ]
  },
  {
   "cell_type": "markdown",
   "metadata": {},
   "source": [
    "PCA"
   ]
  },
  {
   "cell_type": "code",
   "execution_count": 29,
   "metadata": {},
   "outputs": [],
   "source": [
    "from sklearn.decomposition import PCA, SparsePCA, TruncatedSVD\n",
    "from sklearn.preprocessing import StandardScaler"
   ]
  },
  {
   "cell_type": "code",
   "execution_count": 30,
   "metadata": {},
   "outputs": [
    {
     "data": {
      "text/html": [
       "<div>\n",
       "<style scoped>\n",
       "    .dataframe tbody tr th:only-of-type {\n",
       "        vertical-align: middle;\n",
       "    }\n",
       "\n",
       "    .dataframe tbody tr th {\n",
       "        vertical-align: top;\n",
       "    }\n",
       "\n",
       "    .dataframe thead th {\n",
       "        text-align: right;\n",
       "    }\n",
       "</style>\n",
       "<table border=\"1\" class=\"dataframe\">\n",
       "  <thead>\n",
       "    <tr style=\"text-align: right;\">\n",
       "      <th></th>\n",
       "      <th>Nazwa</th>\n",
       "      <th>logK HSA</th>\n",
       "      <th>logKCTAB</th>\n",
       "      <th>CATS3D_00_DD</th>\n",
       "      <th>CATS3D_09_AL</th>\n",
       "      <th>CATS3D_00_AA</th>\n",
       "      <th>Zbiór</th>\n",
       "      <th>y_pred</th>\n",
       "    </tr>\n",
       "  </thead>\n",
       "  <tbody>\n",
       "    <tr>\n",
       "      <th>0</th>\n",
       "      <td>acetaminophen</td>\n",
       "      <td>-0.79</td>\n",
       "      <td>-0.63</td>\n",
       "      <td>2</td>\n",
       "      <td>0</td>\n",
       "      <td>2</td>\n",
       "      <td>t</td>\n",
       "      <td>-0.375286</td>\n",
       "    </tr>\n",
       "    <tr>\n",
       "      <th>1</th>\n",
       "      <td>acetylsalicylic acid</td>\n",
       "      <td>-0.23</td>\n",
       "      <td>1.22</td>\n",
       "      <td>1</td>\n",
       "      <td>0</td>\n",
       "      <td>4</td>\n",
       "      <td>t</td>\n",
       "      <td>0.263784</td>\n",
       "    </tr>\n",
       "    <tr>\n",
       "      <th>2</th>\n",
       "      <td>bromazepam</td>\n",
       "      <td>0.38</td>\n",
       "      <td>0.57</td>\n",
       "      <td>1</td>\n",
       "      <td>0</td>\n",
       "      <td>3</td>\n",
       "      <td>t</td>\n",
       "      <td>0.182154</td>\n",
       "    </tr>\n",
       "    <tr>\n",
       "      <th>3</th>\n",
       "      <td>carbamazepine</td>\n",
       "      <td>0.69</td>\n",
       "      <td>0.68</td>\n",
       "      <td>0</td>\n",
       "      <td>0</td>\n",
       "      <td>3</td>\n",
       "      <td>t</td>\n",
       "      <td>0.450196</td>\n",
       "    </tr>\n",
       "    <tr>\n",
       "      <th>4</th>\n",
       "      <td>chlorpromazine</td>\n",
       "      <td>1.18</td>\n",
       "      <td>1.50</td>\n",
       "      <td>0</td>\n",
       "      <td>0</td>\n",
       "      <td>2</td>\n",
       "      <td>t</td>\n",
       "      <td>1.062700</td>\n",
       "    </tr>\n",
       "  </tbody>\n",
       "</table>\n",
       "</div>"
      ],
      "text/plain": [
       "                  Nazwa  logK HSA  logKCTAB  CATS3D_00_DD  CATS3D_09_AL  \\\n",
       "0         acetaminophen     -0.79     -0.63             2             0   \n",
       "1  acetylsalicylic acid     -0.23      1.22             1             0   \n",
       "2            bromazepam      0.38      0.57             1             0   \n",
       "3         carbamazepine      0.69      0.68             0             0   \n",
       "4        chlorpromazine      1.18      1.50             0             0   \n",
       "\n",
       "   CATS3D_00_AA Zbiór    y_pred  \n",
       "0             2     t -0.375286  \n",
       "1             4     t  0.263784  \n",
       "2             3     t  0.182154  \n",
       "3             3     t  0.450196  \n",
       "4             2     t  1.062700  "
      ]
     },
     "execution_count": 30,
     "metadata": {},
     "output_type": "execute_result"
    }
   ],
   "source": [
    "dane_leki.head()"
   ]
  },
  {
   "cell_type": "code",
   "execution_count": 31,
   "metadata": {},
   "outputs": [],
   "source": [
    "zmienne_zalezne = dane_leki.iloc[:,1]\n",
    "zmienne_niezalezne = dane_leki.iloc[:,2:6]"
   ]
  },
  {
   "cell_type": "code",
   "execution_count": 32,
   "metadata": {},
   "outputs": [
    {
     "data": {
      "text/html": [
       "<div>\n",
       "<style scoped>\n",
       "    .dataframe tbody tr th:only-of-type {\n",
       "        vertical-align: middle;\n",
       "    }\n",
       "\n",
       "    .dataframe tbody tr th {\n",
       "        vertical-align: top;\n",
       "    }\n",
       "\n",
       "    .dataframe thead th {\n",
       "        text-align: right;\n",
       "    }\n",
       "</style>\n",
       "<table border=\"1\" class=\"dataframe\">\n",
       "  <thead>\n",
       "    <tr style=\"text-align: right;\">\n",
       "      <th></th>\n",
       "      <th>logKCTAB</th>\n",
       "      <th>CATS3D_00_DD</th>\n",
       "      <th>CATS3D_09_AL</th>\n",
       "      <th>CATS3D_00_AA</th>\n",
       "    </tr>\n",
       "  </thead>\n",
       "  <tbody>\n",
       "    <tr>\n",
       "      <th>0</th>\n",
       "      <td>-0.63</td>\n",
       "      <td>2</td>\n",
       "      <td>0</td>\n",
       "      <td>2</td>\n",
       "    </tr>\n",
       "    <tr>\n",
       "      <th>1</th>\n",
       "      <td>1.22</td>\n",
       "      <td>1</td>\n",
       "      <td>0</td>\n",
       "      <td>4</td>\n",
       "    </tr>\n",
       "    <tr>\n",
       "      <th>2</th>\n",
       "      <td>0.57</td>\n",
       "      <td>1</td>\n",
       "      <td>0</td>\n",
       "      <td>3</td>\n",
       "    </tr>\n",
       "    <tr>\n",
       "      <th>3</th>\n",
       "      <td>0.68</td>\n",
       "      <td>0</td>\n",
       "      <td>0</td>\n",
       "      <td>3</td>\n",
       "    </tr>\n",
       "    <tr>\n",
       "      <th>4</th>\n",
       "      <td>1.50</td>\n",
       "      <td>0</td>\n",
       "      <td>0</td>\n",
       "      <td>2</td>\n",
       "    </tr>\n",
       "    <tr>\n",
       "      <th>5</th>\n",
       "      <td>0.26</td>\n",
       "      <td>2</td>\n",
       "      <td>0</td>\n",
       "      <td>1</td>\n",
       "    </tr>\n",
       "    <tr>\n",
       "      <th>6</th>\n",
       "      <td>1.25</td>\n",
       "      <td>0</td>\n",
       "      <td>0</td>\n",
       "      <td>3</td>\n",
       "    </tr>\n",
       "    <tr>\n",
       "      <th>7</th>\n",
       "      <td>1.09</td>\n",
       "      <td>0</td>\n",
       "      <td>3</td>\n",
       "      <td>6</td>\n",
       "    </tr>\n",
       "    <tr>\n",
       "      <th>8</th>\n",
       "      <td>0.46</td>\n",
       "      <td>0</td>\n",
       "      <td>0</td>\n",
       "      <td>2</td>\n",
       "    </tr>\n",
       "    <tr>\n",
       "      <th>9</th>\n",
       "      <td>0.73</td>\n",
       "      <td>1</td>\n",
       "      <td>0</td>\n",
       "      <td>1</td>\n",
       "    </tr>\n",
       "    <tr>\n",
       "      <th>10</th>\n",
       "      <td>1.45</td>\n",
       "      <td>1</td>\n",
       "      <td>3</td>\n",
       "      <td>2</td>\n",
       "    </tr>\n",
       "    <tr>\n",
       "      <th>11</th>\n",
       "      <td>0.57</td>\n",
       "      <td>0</td>\n",
       "      <td>0</td>\n",
       "      <td>2</td>\n",
       "    </tr>\n",
       "    <tr>\n",
       "      <th>12</th>\n",
       "      <td>1.48</td>\n",
       "      <td>0</td>\n",
       "      <td>4</td>\n",
       "      <td>8</td>\n",
       "    </tr>\n",
       "    <tr>\n",
       "      <th>13</th>\n",
       "      <td>1.25</td>\n",
       "      <td>1</td>\n",
       "      <td>3</td>\n",
       "      <td>3</td>\n",
       "    </tr>\n",
       "    <tr>\n",
       "      <th>14</th>\n",
       "      <td>-0.97</td>\n",
       "      <td>2</td>\n",
       "      <td>0</td>\n",
       "      <td>6</td>\n",
       "    </tr>\n",
       "    <tr>\n",
       "      <th>15</th>\n",
       "      <td>-0.63</td>\n",
       "      <td>3</td>\n",
       "      <td>0</td>\n",
       "      <td>5</td>\n",
       "    </tr>\n",
       "    <tr>\n",
       "      <th>16</th>\n",
       "      <td>0.30</td>\n",
       "      <td>2</td>\n",
       "      <td>0</td>\n",
       "      <td>2</td>\n",
       "    </tr>\n",
       "    <tr>\n",
       "      <th>17</th>\n",
       "      <td>-0.03</td>\n",
       "      <td>3</td>\n",
       "      <td>2</td>\n",
       "      <td>5</td>\n",
       "    </tr>\n",
       "    <tr>\n",
       "      <th>18</th>\n",
       "      <td>1.04</td>\n",
       "      <td>0</td>\n",
       "      <td>6</td>\n",
       "      <td>6</td>\n",
       "    </tr>\n",
       "    <tr>\n",
       "      <th>19</th>\n",
       "      <td>-0.11</td>\n",
       "      <td>3</td>\n",
       "      <td>0</td>\n",
       "      <td>6</td>\n",
       "    </tr>\n",
       "    <tr>\n",
       "      <th>20</th>\n",
       "      <td>1.98</td>\n",
       "      <td>0</td>\n",
       "      <td>1</td>\n",
       "      <td>3</td>\n",
       "    </tr>\n",
       "    <tr>\n",
       "      <th>21</th>\n",
       "      <td>0.01</td>\n",
       "      <td>4</td>\n",
       "      <td>1</td>\n",
       "      <td>5</td>\n",
       "    </tr>\n",
       "    <tr>\n",
       "      <th>22</th>\n",
       "      <td>0.73</td>\n",
       "      <td>0</td>\n",
       "      <td>5</td>\n",
       "      <td>2</td>\n",
       "    </tr>\n",
       "    <tr>\n",
       "      <th>23</th>\n",
       "      <td>1.63</td>\n",
       "      <td>1</td>\n",
       "      <td>4</td>\n",
       "      <td>5</td>\n",
       "    </tr>\n",
       "    <tr>\n",
       "      <th>24</th>\n",
       "      <td>1.32</td>\n",
       "      <td>3</td>\n",
       "      <td>2</td>\n",
       "      <td>5</td>\n",
       "    </tr>\n",
       "    <tr>\n",
       "      <th>25</th>\n",
       "      <td>0.47</td>\n",
       "      <td>1</td>\n",
       "      <td>2</td>\n",
       "      <td>4</td>\n",
       "    </tr>\n",
       "    <tr>\n",
       "      <th>26</th>\n",
       "      <td>-0.43</td>\n",
       "      <td>3</td>\n",
       "      <td>0</td>\n",
       "      <td>7</td>\n",
       "    </tr>\n",
       "  </tbody>\n",
       "</table>\n",
       "</div>"
      ],
      "text/plain": [
       "    logKCTAB  CATS3D_00_DD  CATS3D_09_AL  CATS3D_00_AA\n",
       "0      -0.63             2             0             2\n",
       "1       1.22             1             0             4\n",
       "2       0.57             1             0             3\n",
       "3       0.68             0             0             3\n",
       "4       1.50             0             0             2\n",
       "5       0.26             2             0             1\n",
       "6       1.25             0             0             3\n",
       "7       1.09             0             3             6\n",
       "8       0.46             0             0             2\n",
       "9       0.73             1             0             1\n",
       "10      1.45             1             3             2\n",
       "11      0.57             0             0             2\n",
       "12      1.48             0             4             8\n",
       "13      1.25             1             3             3\n",
       "14     -0.97             2             0             6\n",
       "15     -0.63             3             0             5\n",
       "16      0.30             2             0             2\n",
       "17     -0.03             3             2             5\n",
       "18      1.04             0             6             6\n",
       "19     -0.11             3             0             6\n",
       "20      1.98             0             1             3\n",
       "21      0.01             4             1             5\n",
       "22      0.73             0             5             2\n",
       "23      1.63             1             4             5\n",
       "24      1.32             3             2             5\n",
       "25      0.47             1             2             4\n",
       "26     -0.43             3             0             7"
      ]
     },
     "execution_count": 32,
     "metadata": {},
     "output_type": "execute_result"
    }
   ],
   "source": [
    "zmienne_niezalezne"
   ]
  },
  {
   "cell_type": "code",
   "execution_count": 33,
   "metadata": {},
   "outputs": [
    {
     "data": {
      "text/plain": [
       "array([[-2.30069689, -0.64995536, -0.94942897, -0.77936406],\n",
       "       [-0.69609081, -0.55355085,  1.0299943 ,  0.6063953 ],\n",
       "       [-1.49255833, -0.24136433,  0.47664118, -0.01366872],\n",
       "       [-1.50687237,  0.34610715,  1.25036455, -0.27467546],\n",
       "       [-2.21652612,  1.10365714,  1.02774028,  0.46380134],\n",
       "       [-3.00621666,  0.12880242, -1.15630425,  0.02380517],\n",
       "       [-1.47320989,  0.51879911,  1.37860635,  0.25210567],\n",
       "       [ 2.73902658,  0.69723128,  1.14828475, -0.19261657],\n",
       "       [-2.27794539,  0.78857006,  0.79375524, -0.49734319],\n",
       "       [-2.99927018,  0.8253425 , -0.30158606,  0.0955023 ],\n",
       "       [-0.25122452,  2.28861872, -1.14814525,  0.42535881],\n",
       "       [-2.27144912,  0.82189658,  0.81850366, -0.39568367],\n",
       "       [ 4.92736781,  0.38190869,  1.57836698,  0.08821003],\n",
       "       [ 0.49504456,  1.7189091 , -0.78602991,  0.25987202],\n",
       "       [ 0.71154566, -2.7894284 ,  0.60252579, -1.01618963],\n",
       "       [-0.00564514, -2.73144817, -0.47706652, -0.35865173],\n",
       "       [-2.24577389, -0.36819479, -0.74019235,  0.08012095],\n",
       "       [ 1.32808515, -1.38016385, -1.28584935, -0.04074521],\n",
       "       [ 4.68351787,  2.43633782, -0.27862583, -0.59372537],\n",
       "       [ 0.78314498, -3.08302057,  0.04703847,  0.14126923],\n",
       "       [-0.78095024,  1.32471766,  1.07095874,  0.80845522],\n",
       "       [ 0.70210969, -2.50694173, -1.55393778,  0.47718812],\n",
       "       [ 0.98374023,  3.79412977, -1.50493414, -0.83931515],\n",
       "       [ 2.68279522,  1.40055683, -0.35819754,  0.53145684],\n",
       "       [ 1.40781208, -0.97115658, -0.98211878,  1.20689432],\n",
       "       [ 0.55791254,  0.38872619, -0.08251911, -0.32333772],\n",
       "       [ 1.52232722, -3.68908639,  0.38215554, -0.13511886]])"
      ]
     },
     "execution_count": 33,
     "metadata": {},
     "output_type": "execute_result"
    }
   ],
   "source": [
    "pca = PCA()\n",
    "dane_fitransformmed = pca.fit_transform(zmienne_niezalezne)\n",
    "dane_fitransformmed"
   ]
  },
  {
   "cell_type": "code",
   "execution_count": 34,
   "metadata": {},
   "outputs": [],
   "source": [
    "from sklearn.model_selection import train_test_split\n",
    "X_train, X_test,y_train,y_test = train_test_split(dane_fitransformmed,zmienne_zalezne,test_size=0.33, random_state=42)\n"
   ]
  },
  {
   "cell_type": "code",
   "execution_count": 35,
   "metadata": {},
   "outputs": [],
   "source": [
    "from sklearn.model_selection import KFold\n",
    "dane_kfold = KFold(n_splits=10,shuffle=True, random_state=1)"
   ]
  },
  {
   "cell_type": "code",
   "execution_count": 36,
   "metadata": {},
   "outputs": [
    {
     "data": {
      "text/plain": [
       "array([[ 1.40781208, -0.97115658, -0.98211878,  1.20689432],\n",
       "       [-0.69609081, -0.55355085,  1.0299943 ,  0.6063953 ],\n",
       "       [-2.21652612,  1.10365714,  1.02774028,  0.46380134],\n",
       "       [-3.00621666,  0.12880242, -1.15630425,  0.02380517],\n",
       "       [-1.49255833, -0.24136433,  0.47664118, -0.01366872],\n",
       "       [-0.00564514, -2.73144817, -0.47706652, -0.35865173],\n",
       "       [ 0.98374023,  3.79412977, -1.50493414, -0.83931515],\n",
       "       [-1.50687237,  0.34610715,  1.25036455, -0.27467546],\n",
       "       [ 0.55791254,  0.38872619, -0.08251911, -0.32333772],\n",
       "       [ 2.68279522,  1.40055683, -0.35819754,  0.53145684],\n",
       "       [ 4.68351787,  2.43633782, -0.27862583, -0.59372537],\n",
       "       [ 1.52232722, -3.68908639,  0.38215554, -0.13511886],\n",
       "       [-0.78095024,  1.32471766,  1.07095874,  0.80845522],\n",
       "       [ 2.73902658,  0.69723128,  1.14828475, -0.19261657],\n",
       "       [-0.25122452,  2.28861872, -1.14814525,  0.42535881],\n",
       "       [ 0.71154566, -2.7894284 ,  0.60252579, -1.01618963],\n",
       "       [ 0.78314498, -3.08302057,  0.04703847,  0.14126923],\n",
       "       [-1.47320989,  0.51879911,  1.37860635,  0.25210567]])"
      ]
     },
     "execution_count": 36,
     "metadata": {},
     "output_type": "execute_result"
    }
   ],
   "source": [
    "X_train"
   ]
  },
  {
   "cell_type": "code",
   "execution_count": 37,
   "metadata": {},
   "outputs": [
    {
     "data": {
      "text/plain": [
       "([<matplotlib.axis.XTick at 0x1c5df97cdf0>,\n",
       "  <matplotlib.axis.XTick at 0x1c5df97c910>,\n",
       "  <matplotlib.axis.XTick at 0x1c5df9873d0>,\n",
       "  <matplotlib.axis.XTick at 0x1c5df9eb6a0>],\n",
       " [Text(0, 0, '1'), Text(1, 0, '2'), Text(2, 0, '3'), Text(3, 0, '4')])"
      ]
     },
     "execution_count": 37,
     "metadata": {},
     "output_type": "execute_result"
    },
    {
     "data": {
      "image/png": "[encoded data removed]",
      "text/plain": [
       "<Figure size 800x550 with 1 Axes>"
      ]
     },
     "metadata": {},
     "output_type": "display_data"
    }
   ],
   "source": [
    "from sklearn.linear_model import LinearRegression\n",
    "from sklearn.model_selection import cross_val_score\n",
    "lin_reg = LinearRegression().fit(X_train,y_train)\n",
    "rmse_list = []\n",
    "\n",
    "for i in range(1, X_train.shape[1]+1):\n",
    "    rmse_score = -1 * cross_val_score(lin_reg, \n",
    "                                      X_train[:,:i], # Use first k principal components\n",
    "                                      y_train, \n",
    "                                      cv=dane_kfold, \n",
    "                                      scoring='neg_root_mean_squared_error').mean()\n",
    "    rmse_list.append(rmse_score)\n",
    "    \n",
    "plt.plot(rmse_list, '-o')\n",
    "plt.xlabel('Number of principal components in regression')\n",
    "plt.ylabel('RMSE')\n",
    "plt.title('Quality')\n",
    "plt.xlim(xmin=-1);\n",
    "plt.xticks(np.arange(X_train.shape[1]), np.arange(1, X_train.shape[1]+1))"
   ]
  },
  {
   "cell_type": "code",
   "execution_count": 38,
   "metadata": {},
   "outputs": [],
   "source": [
    "#Optymalna ilość składowych na podstawie wykresu zależności RMSE od ilości głównych składowych z uwzględnieniem walidacji krzyżowej K-FOLD wynosi 2 "
   ]
  },
  {
   "cell_type": "code",
   "execution_count": 39,
   "metadata": {},
   "outputs": [
    {
     "data": {
      "text/html": [
       "<div>\n",
       "<style scoped>\n",
       "    .dataframe tbody tr th:only-of-type {\n",
       "        vertical-align: middle;\n",
       "    }\n",
       "\n",
       "    .dataframe tbody tr th {\n",
       "        vertical-align: top;\n",
       "    }\n",
       "\n",
       "    .dataframe thead th {\n",
       "        text-align: right;\n",
       "    }\n",
       "</style>\n",
       "<table border=\"1\" class=\"dataframe\">\n",
       "  <thead>\n",
       "    <tr style=\"text-align: right;\">\n",
       "      <th></th>\n",
       "      <th>logKCTAB</th>\n",
       "      <th>CATS3D_00_DD</th>\n",
       "      <th>CATS3D_09_AL</th>\n",
       "      <th>CATS3D_00_AA</th>\n",
       "    </tr>\n",
       "  </thead>\n",
       "  <tbody>\n",
       "    <tr>\n",
       "      <th>0</th>\n",
       "      <td>1.407812</td>\n",
       "      <td>-0.971157</td>\n",
       "      <td>-0.982119</td>\n",
       "      <td>1.206894</td>\n",
       "    </tr>\n",
       "    <tr>\n",
       "      <th>1</th>\n",
       "      <td>-0.696091</td>\n",
       "      <td>-0.553551</td>\n",
       "      <td>1.029994</td>\n",
       "      <td>0.606395</td>\n",
       "    </tr>\n",
       "    <tr>\n",
       "      <th>2</th>\n",
       "      <td>-2.216526</td>\n",
       "      <td>1.103657</td>\n",
       "      <td>1.027740</td>\n",
       "      <td>0.463801</td>\n",
       "    </tr>\n",
       "    <tr>\n",
       "      <th>3</th>\n",
       "      <td>-3.006217</td>\n",
       "      <td>0.128802</td>\n",
       "      <td>-1.156304</td>\n",
       "      <td>0.023805</td>\n",
       "    </tr>\n",
       "    <tr>\n",
       "      <th>4</th>\n",
       "      <td>-1.492558</td>\n",
       "      <td>-0.241364</td>\n",
       "      <td>0.476641</td>\n",
       "      <td>-0.013669</td>\n",
       "    </tr>\n",
       "  </tbody>\n",
       "</table>\n",
       "</div>"
      ],
      "text/plain": [
       "   logKCTAB  CATS3D_00_DD  CATS3D_09_AL  CATS3D_00_AA\n",
       "0  1.407812     -0.971157     -0.982119      1.206894\n",
       "1 -0.696091     -0.553551      1.029994      0.606395\n",
       "2 -2.216526      1.103657      1.027740      0.463801\n",
       "3 -3.006217      0.128802     -1.156304      0.023805\n",
       "4 -1.492558     -0.241364      0.476641     -0.013669"
      ]
     },
     "execution_count": 39,
     "metadata": {},
     "output_type": "execute_result"
    }
   ],
   "source": [
    "my_array = X_train\n",
    "\n",
    "X_train_pd = pd.DataFrame(my_array, columns = ['logKCTAB','CATS3D_00_DD','CATS3D_09_AL', 'CATS3D_00_AA'])\n",
    "\n",
    "X_train_pd.head()"
   ]
  },
  {
   "cell_type": "code",
   "execution_count": 40,
   "metadata": {},
   "outputs": [
    {
     "data": {
      "text/html": [
       "<div>\n",
       "<style scoped>\n",
       "    .dataframe tbody tr th:only-of-type {\n",
       "        vertical-align: middle;\n",
       "    }\n",
       "\n",
       "    .dataframe tbody tr th {\n",
       "        vertical-align: top;\n",
       "    }\n",
       "\n",
       "    .dataframe thead th {\n",
       "        text-align: right;\n",
       "    }\n",
       "</style>\n",
       "<table border=\"1\" class=\"dataframe\">\n",
       "  <thead>\n",
       "    <tr style=\"text-align: right;\">\n",
       "      <th></th>\n",
       "      <th>logKCTAB</th>\n",
       "      <th>CATS3D_00_DD</th>\n",
       "      <th>CATS3D_09_AL</th>\n",
       "      <th>CATS3D_00_AA</th>\n",
       "    </tr>\n",
       "  </thead>\n",
       "  <tbody>\n",
       "    <tr>\n",
       "      <th>logKCTAB</th>\n",
       "      <td>1.000000</td>\n",
       "      <td>0.067918</td>\n",
       "      <td>-0.204927</td>\n",
       "      <td>-0.230498</td>\n",
       "    </tr>\n",
       "    <tr>\n",
       "      <th>CATS3D_00_DD</th>\n",
       "      <td>0.067918</td>\n",
       "      <td>1.000000</td>\n",
       "      <td>-0.213017</td>\n",
       "      <td>0.040158</td>\n",
       "    </tr>\n",
       "    <tr>\n",
       "      <th>CATS3D_09_AL</th>\n",
       "      <td>-0.204927</td>\n",
       "      <td>-0.213017</td>\n",
       "      <td>1.000000</td>\n",
       "      <td>0.079211</td>\n",
       "    </tr>\n",
       "    <tr>\n",
       "      <th>CATS3D_00_AA</th>\n",
       "      <td>-0.230498</td>\n",
       "      <td>0.040158</td>\n",
       "      <td>0.079211</td>\n",
       "      <td>1.000000</td>\n",
       "    </tr>\n",
       "  </tbody>\n",
       "</table>\n",
       "</div>"
      ],
      "text/plain": [
       "              logKCTAB  CATS3D_00_DD  CATS3D_09_AL  CATS3D_00_AA\n",
       "logKCTAB      1.000000      0.067918     -0.204927     -0.230498\n",
       "CATS3D_00_DD  0.067918      1.000000     -0.213017      0.040158\n",
       "CATS3D_09_AL -0.204927     -0.213017      1.000000      0.079211\n",
       "CATS3D_00_AA -0.230498      0.040158      0.079211      1.000000"
      ]
     },
     "execution_count": 40,
     "metadata": {},
     "output_type": "execute_result"
    }
   ],
   "source": [
    "X_train_corr = X_train_pd.corr()\n",
    "X_train_corr"
   ]
  },
  {
   "cell_type": "code",
   "execution_count": 41,
   "metadata": {},
   "outputs": [
    {
     "data": {
      "image/png": "[encoded data removed]",
      "text/plain": [
       "<Figure size 800x550 with 1 Axes>"
      ]
     },
     "metadata": {},
     "output_type": "display_data"
    }
   ],
   "source": [
    "from numpy.linalg import eig\n",
    "\n",
    "\n",
    "values, vectors = eig(X_train_corr)\n",
    "\n",
    "values[2], values[3] = values[3],values[2]\n",
    "vectors[2], vectors[3] = vectors[3],vectors[2]\n",
    "val = pd.DataFrame(values, columns=['w.wlasne']) \n",
    "\n",
    "plt.plot(val, 'o-', linewidth=3, color='orange')\n",
    "plt.axhline(1)\n",
    "plt.title('Plot')\n",
    "plt.xlabel('Principal Component')\n",
    "plt.ylabel('Eigenvalues')\n",
    "plt.show()"
   ]
  },
  {
   "cell_type": "code",
   "execution_count": 42,
   "metadata": {},
   "outputs": [
    {
     "data": {
      "text/plain": [
       "(array([1.40259669, 1.10956352, 0.76340058, 0.72443921]),\n",
       " array([[ 0.59630072,  0.28464848,  0.69335285,  0.28751089],\n",
       "        [ 0.36528036, -0.66503003,  0.21398863, -0.61523507],\n",
       "        [-0.41892572, -0.61326707,  0.38481081,  0.54801951],\n",
       "        [-0.41892572, -0.61326707,  0.38481081,  0.54801951]]))"
      ]
     },
     "execution_count": 42,
     "metadata": {},
     "output_type": "execute_result"
    }
   ],
   "source": [
    "values, vectors"
   ]
  },
  {
   "cell_type": "code",
   "execution_count": 43,
   "metadata": {},
   "outputs": [],
   "source": [
    "# DWIE PIERWSZE GŁOWNE SKLADOWE WYJASNIAJA >95% WARIANCJI "
   ]
  },
  {
   "cell_type": "code",
   "execution_count": 44,
   "metadata": {},
   "outputs": [
    {
     "data": {
      "text/plain": [
       "array([[ 1.40781208, -0.97115658, -0.98211878,  1.20689432],\n",
       "       [-0.69609081, -0.55355085,  1.0299943 ,  0.6063953 ],\n",
       "       [-2.21652612,  1.10365714,  1.02774028,  0.46380134],\n",
       "       [-3.00621666,  0.12880242, -1.15630425,  0.02380517],\n",
       "       [-1.49255833, -0.24136433,  0.47664118, -0.01366872],\n",
       "       [-0.00564514, -2.73144817, -0.47706652, -0.35865173],\n",
       "       [ 0.98374023,  3.79412977, -1.50493414, -0.83931515],\n",
       "       [-1.50687237,  0.34610715,  1.25036455, -0.27467546],\n",
       "       [ 0.55791254,  0.38872619, -0.08251911, -0.32333772],\n",
       "       [ 2.68279522,  1.40055683, -0.35819754,  0.53145684],\n",
       "       [ 4.68351787,  2.43633782, -0.27862583, -0.59372537],\n",
       "       [ 1.52232722, -3.68908639,  0.38215554, -0.13511886],\n",
       "       [-0.78095024,  1.32471766,  1.07095874,  0.80845522],\n",
       "       [ 2.73902658,  0.69723128,  1.14828475, -0.19261657],\n",
       "       [-0.25122452,  2.28861872, -1.14814525,  0.42535881],\n",
       "       [ 0.71154566, -2.7894284 ,  0.60252579, -1.01618963],\n",
       "       [ 0.78314498, -3.08302057,  0.04703847,  0.14126923],\n",
       "       [-1.47320989,  0.51879911,  1.37860635,  0.25210567]])"
      ]
     },
     "execution_count": 44,
     "metadata": {},
     "output_type": "execute_result"
    }
   ],
   "source": [
    "X_train"
   ]
  },
  {
   "cell_type": "code",
   "execution_count": 45,
   "metadata": {},
   "outputs": [
    {
     "data": {
      "text/plain": [
       "array([[ 1.40781208, -0.97115658],\n",
       "       [-0.69609081, -0.55355085],\n",
       "       [-2.21652612,  1.10365714],\n",
       "       [-3.00621666,  0.12880242],\n",
       "       [-1.49255833, -0.24136433],\n",
       "       [-0.00564514, -2.73144817],\n",
       "       [ 0.98374023,  3.79412977],\n",
       "       [-1.50687237,  0.34610715],\n",
       "       [ 0.55791254,  0.38872619],\n",
       "       [ 2.68279522,  1.40055683],\n",
       "       [ 4.68351787,  2.43633782],\n",
       "       [ 1.52232722, -3.68908639],\n",
       "       [-0.78095024,  1.32471766],\n",
       "       [ 2.73902658,  0.69723128],\n",
       "       [-0.25122452,  2.28861872],\n",
       "       [ 0.71154566, -2.7894284 ],\n",
       "       [ 0.78314498, -3.08302057],\n",
       "       [-1.47320989,  0.51879911]])"
      ]
     },
     "execution_count": 45,
     "metadata": {},
     "output_type": "execute_result"
    }
   ],
   "source": [
    "X_train[:,0:2]"
   ]
  },
  {
   "cell_type": "code",
   "execution_count": 46,
   "metadata": {},
   "outputs": [
    {
     "name": "stdout",
     "output_type": "stream",
     "text": [
      "Udział procentowy: 35.06491715335801%\n",
      "Udział procentowy: 27.739088111118686%\n",
      "Udział procentowy: 19.085014506930293%\n",
      "Udział procentowy: 18.110980228593103%\n"
     ]
    }
   ],
   "source": [
    "for i in values:\n",
    "    print(f'Udział procentowy: {i/4 * 100}%')"
   ]
  },
  {
   "cell_type": "code",
   "execution_count": 47,
   "metadata": {},
   "outputs": [
    {
     "name": "stdout",
     "output_type": "stream",
     "text": [
      "                            OLS Regression Results                            \n",
      "==============================================================================\n",
      "Dep. Variable:               logK HSA   R-squared:                       0.847\n",
      "Model:                            OLS   Adj. R-squared:                  0.826\n",
      "Method:                 Least Squares   F-statistic:                     41.44\n",
      "Date:                Tue, 06 Dec 2022   Prob (F-statistic):           7.77e-07\n",
      "Time:                        23:02:12   Log-Likelihood:                -11.107\n",
      "No. Observations:                  18   AIC:                             28.21\n",
      "Df Residuals:                      15   BIC:                             30.88\n",
      "Df Model:                           2                                         \n",
      "Covariance Type:            nonrobust                                         \n",
      "==============================================================================\n",
      "                 coef    std err          t      P>|t|      [0.025      0.975]\n",
      "------------------------------------------------------------------------------\n",
      "const          0.4406      0.117      3.770      0.002       0.191       0.690\n",
      "x1             0.0509      0.062      0.826      0.421      -0.080       0.182\n",
      "x2             0.5246      0.058      8.989      0.000       0.400       0.649\n",
      "==============================================================================\n",
      "Omnibus:                        2.214   Durbin-Watson:                   2.909\n",
      "Prob(Omnibus):                  0.331   Jarque-Bera (JB):                1.673\n",
      "Skew:                          -0.591   Prob(JB):                        0.433\n",
      "Kurtosis:                       2.086   Cond. No.                         2.05\n",
      "==============================================================================\n",
      "\n",
      "Notes:\n",
      "[1] Standard Errors assume that the covariance matrix of the errors is correctly specified.\n"
     ]
    },
    {
     "name": "stderr",
     "output_type": "stream",
     "text": [
      "C:\\Users\\Michał\\AppData\\Roaming\\Python\\Python39\\site-packages\\scipy\\stats\\_stats_py.py:1772: UserWarning: kurtosistest only valid for n>=20 ... continuing anyway, n=18\n",
      "  warnings.warn(\"kurtosistest only valid for n>=20 ... continuing \"\n"
     ]
    }
   ],
   "source": [
    "X = X_train[:,0:2]\n",
    "Y = y_train\n",
    "X = sm.add_constant(X)\n",
    "statOLS = sm.OLS(Y,X).fit()\n",
    "print(statOLS.summary())"
   ]
  },
  {
   "cell_type": "markdown",
   "metadata": {},
   "source": [
    "RÓWNANIE MODELU "
   ]
  },
  {
   "cell_type": "code",
   "execution_count": 48,
   "metadata": {},
   "outputs": [
    {
     "data": {
      "text/html": [
       "<div>\n",
       "<style scoped>\n",
       "    .dataframe tbody tr th:only-of-type {\n",
       "        vertical-align: middle;\n",
       "    }\n",
       "\n",
       "    .dataframe tbody tr th {\n",
       "        vertical-align: top;\n",
       "    }\n",
       "\n",
       "    .dataframe thead th {\n",
       "        text-align: right;\n",
       "    }\n",
       "</style>\n",
       "<table border=\"1\" class=\"dataframe\">\n",
       "  <thead>\n",
       "    <tr style=\"text-align: right;\">\n",
       "      <th></th>\n",
       "      <th>0</th>\n",
       "    </tr>\n",
       "  </thead>\n",
       "  <tbody>\n",
       "    <tr>\n",
       "      <th>0</th>\n",
       "      <td>1.021726</td>\n",
       "    </tr>\n",
       "    <tr>\n",
       "      <th>1</th>\n",
       "      <td>0.695562</td>\n",
       "    </tr>\n",
       "    <tr>\n",
       "      <th>2</th>\n",
       "      <td>-0.251200</td>\n",
       "    </tr>\n",
       "    <tr>\n",
       "      <th>3</th>\n",
       "      <td>0.220014</td>\n",
       "    </tr>\n",
       "    <tr>\n",
       "      <th>4</th>\n",
       "      <td>0.491249</td>\n",
       "    </tr>\n",
       "    <tr>\n",
       "      <th>5</th>\n",
       "      <td>1.873230</td>\n",
       "    </tr>\n",
       "    <tr>\n",
       "      <th>6</th>\n",
       "      <td>-1.499728</td>\n",
       "    </tr>\n",
       "    <tr>\n",
       "      <th>7</th>\n",
       "      <td>0.182332</td>\n",
       "    </tr>\n",
       "    <tr>\n",
       "      <th>8</th>\n",
       "      <td>0.265072</td>\n",
       "    </tr>\n",
       "    <tr>\n",
       "      <th>9</th>\n",
       "      <td>-0.157578</td>\n",
       "    </tr>\n",
       "    <tr>\n",
       "      <th>10</th>\n",
       "      <td>-0.599112</td>\n",
       "    </tr>\n",
       "    <tr>\n",
       "      <th>11</th>\n",
       "      <td>2.453381</td>\n",
       "    </tr>\n",
       "    <tr>\n",
       "      <th>12</th>\n",
       "      <td>-0.294097</td>\n",
       "    </tr>\n",
       "    <tr>\n",
       "      <th>13</th>\n",
       "      <td>0.214249</td>\n",
       "    </tr>\n",
       "    <tr>\n",
       "      <th>14</th>\n",
       "      <td>-0.772797</td>\n",
       "    </tr>\n",
       "    <tr>\n",
       "      <th>15</th>\n",
       "      <td>1.940152</td>\n",
       "    </tr>\n",
       "    <tr>\n",
       "      <th>16</th>\n",
       "      <td>2.097815</td>\n",
       "    </tr>\n",
       "    <tr>\n",
       "      <th>17</th>\n",
       "      <td>0.093452</td>\n",
       "    </tr>\n",
       "  </tbody>\n",
       "</table>\n",
       "</div>"
      ],
      "text/plain": [
       "           0\n",
       "0   1.021726\n",
       "1   0.695562\n",
       "2  -0.251200\n",
       "3   0.220014\n",
       "4   0.491249\n",
       "5   1.873230\n",
       "6  -1.499728\n",
       "7   0.182332\n",
       "8   0.265072\n",
       "9  -0.157578\n",
       "10 -0.599112\n",
       "11  2.453381\n",
       "12 -0.294097\n",
       "13  0.214249\n",
       "14 -0.772797\n",
       "15  1.940152\n",
       "16  2.097815\n",
       "17  0.093452"
      ]
     },
     "execution_count": 48,
     "metadata": {},
     "output_type": "execute_result"
    }
   ],
   "source": [
    "y_pred_pca_train = 0.4406 + 0.0509*X_train[:,0] + (-0.5246 * X_train[:,1])\n",
    "y_pred_pca_train = pd.DataFrame(y_pred_pca_train)\n",
    "y_pred_pca_train\n"
   ]
  },
  {
   "cell_type": "code",
   "execution_count": 49,
   "metadata": {},
   "outputs": [
    {
     "name": "stdout",
     "output_type": "stream",
     "text": [
      "                            OLS Regression Results                            \n",
      "==============================================================================\n",
      "Dep. Variable:               logK HSA   R-squared:                       0.766\n",
      "Model:                            OLS   Adj. R-squared:                  0.688\n",
      "Method:                 Least Squares   F-statistic:                     9.823\n",
      "Date:                Tue, 06 Dec 2022   Prob (F-statistic):             0.0128\n",
      "Time:                        23:02:12   Log-Likelihood:                -4.7744\n",
      "No. Observations:                   9   AIC:                             15.55\n",
      "Df Residuals:                       6   BIC:                             16.14\n",
      "Df Model:                           2                                         \n",
      "Covariance Type:            nonrobust                                         \n",
      "==============================================================================\n",
      "                 coef    std err          t      P>|t|      [0.025      0.975]\n",
      "------------------------------------------------------------------------------\n",
      "const          0.3523      0.172      2.048      0.086      -0.069       0.773\n",
      "x1             0.0790      0.070      1.134      0.300      -0.091       0.249\n",
      "x2             0.6086      0.138      4.418      0.004       0.272       0.946\n",
      "==============================================================================\n",
      "Omnibus:                        0.121   Durbin-Watson:                   1.820\n",
      "Prob(Omnibus):                  0.942   Jarque-Bera (JB):                0.245\n",
      "Skew:                           0.199   Prob(JB):                        0.885\n",
      "Kurtosis:                       2.296   Cond. No.                         2.61\n",
      "==============================================================================\n",
      "\n",
      "Notes:\n",
      "[1] Standard Errors assume that the covariance matrix of the errors is correctly specified.\n"
     ]
    },
    {
     "name": "stderr",
     "output_type": "stream",
     "text": [
      "C:\\Users\\Michał\\AppData\\Roaming\\Python\\Python39\\site-packages\\scipy\\stats\\_stats_py.py:1772: UserWarning: kurtosistest only valid for n>=20 ... continuing anyway, n=9\n",
      "  warnings.warn(\"kurtosistest only valid for n>=20 ... continuing \"\n"
     ]
    }
   ],
   "source": [
    "X = X_test[:,0:2]\n",
    "Y = y_test\n",
    "X = sm.add_constant(X)\n",
    "statOLS = sm.OLS(Y,X).fit()\n",
    "print(statOLS.summary())"
   ]
  },
  {
   "cell_type": "code",
   "execution_count": 50,
   "metadata": {},
   "outputs": [
    {
     "data": {
      "text/html": [
       "<div>\n",
       "<style scoped>\n",
       "    .dataframe tbody tr th:only-of-type {\n",
       "        vertical-align: middle;\n",
       "    }\n",
       "\n",
       "    .dataframe tbody tr th {\n",
       "        vertical-align: top;\n",
       "    }\n",
       "\n",
       "    .dataframe thead th {\n",
       "        text-align: right;\n",
       "    }\n",
       "</style>\n",
       "<table border=\"1\" class=\"dataframe\">\n",
       "  <thead>\n",
       "    <tr style=\"text-align: right;\">\n",
       "      <th></th>\n",
       "      <th>0</th>\n",
       "    </tr>\n",
       "  </thead>\n",
       "  <tbody>\n",
       "    <tr>\n",
       "      <th>0</th>\n",
       "      <td>-0.307581</td>\n",
       "    </tr>\n",
       "    <tr>\n",
       "      <th>1</th>\n",
       "      <td>-0.654720</td>\n",
       "    </tr>\n",
       "    <tr>\n",
       "      <th>2</th>\n",
       "      <td>-0.386946</td>\n",
       "    </tr>\n",
       "    <tr>\n",
       "      <th>3</th>\n",
       "      <td>1.933491</td>\n",
       "    </tr>\n",
       "    <tr>\n",
       "      <th>4</th>\n",
       "      <td>0.566108</td>\n",
       "    </tr>\n",
       "    <tr>\n",
       "      <th>5</th>\n",
       "      <td>-0.327351</td>\n",
       "    </tr>\n",
       "    <tr>\n",
       "      <th>6</th>\n",
       "      <td>0.398967</td>\n",
       "    </tr>\n",
       "    <tr>\n",
       "      <th>7</th>\n",
       "      <td>1.297186</td>\n",
       "    </tr>\n",
       "    <tr>\n",
       "      <th>8</th>\n",
       "      <td>0.509132</td>\n",
       "    </tr>\n",
       "  </tbody>\n",
       "</table>\n",
       "</div>"
      ],
      "text/plain": [
       "          0\n",
       "0 -0.307581\n",
       "1 -0.654720\n",
       "2 -0.386946\n",
       "3  1.933491\n",
       "4  0.566108\n",
       "5 -0.327351\n",
       "6  0.398967\n",
       "7  1.297186\n",
       "8  0.509132"
      ]
     },
     "execution_count": 50,
     "metadata": {},
     "output_type": "execute_result"
    }
   ],
   "source": [
    "y_pred_pca_test = 0.3523 + 0.0790*X_test[:,0] + (-0.6086 * X_test[:,1])\n",
    "y_pred_pca_test = pd.DataFrame(y_pred_pca_test)\n",
    "y_pred_pca_test\n"
   ]
  },
  {
   "cell_type": "code",
   "execution_count": 51,
   "metadata": {},
   "outputs": [],
   "source": [
    "lin = LinearRegression()"
   ]
  },
  {
   "cell_type": "code",
   "execution_count": 52,
   "metadata": {},
   "outputs": [],
   "source": [
    "from sklearn import metrics\n",
    "from sklearn.metrics import mean_squared_error,r2_score\n",
    "lin_pca = lin.fit(X_train[:,0:2],y_train)\n",
    "pred1 = lin_pca.predict(X_train[:,0:2])\n",
    "pred2 = lin_pca.predict(X_test[:,0:2])"
   ]
  },
  {
   "cell_type": "code",
   "execution_count": 53,
   "metadata": {},
   "outputs": [],
   "source": [
    "r2 = metrics.r2_score(y_train,pred1)\n",
    "q2 = metrics.r2_score(y_test,pred2)"
   ]
  },
  {
   "cell_type": "code",
   "execution_count": 54,
   "metadata": {},
   "outputs": [],
   "source": [
    "rmse = np.sqrt(metrics.mean_squared_error(y_train,pred1))\n",
    "rmse_ex = np.sqrt(metrics.mean_squared_error(y_test,pred2))"
   ]
  },
  {
   "cell_type": "code",
   "execution_count": 55,
   "metadata": {},
   "outputs": [
    {
     "data": {
      "text/plain": [
       "0.4484752129938628"
      ]
     },
     "execution_count": 55,
     "metadata": {},
     "output_type": "execute_result"
    }
   ],
   "source": [
    "rmse"
   ]
  },
  {
   "cell_type": "code",
   "execution_count": 56,
   "metadata": {},
   "outputs": [],
   "source": [
    "# logKHSA = dane_leki['logK HSA']\n",
    "# MSE = np.square(np.subtract(logKHSA[dane_leki['Zbiór']=='t'],y_pred_pca_train)).mean() \n",
    " \n",
    "# RMSE = math.sqrt(MSE)\n",
    "# print(\"Root Mean Square Error:\\n\")\n",
    "# print(RMSE)"
   ]
  },
  {
   "cell_type": "code",
   "execution_count": 57,
   "metadata": {},
   "outputs": [],
   "source": [
    "# logKHSA = dane_leki['logK HSA']\n",
    "# MSE = np.square(np.subtract(logKHSA[dane_leki['Zbiór']=='w'],y_pred[dane_leki['Zbiór'] == 'w'])).mean() \n",
    " \n",
    "# RMSE = math.sqrt(MSE)\n",
    "# print(\"Root Mean Square Error:\\n\")\n",
    "# print(RMSE)"
   ]
  },
  {
   "cell_type": "code",
   "execution_count": 58,
   "metadata": {},
   "outputs": [],
   "source": [
    "# def Q_2():\n",
    "#     y_pred_w = y_pred[dane_leki['Zbiór']=='w']\n",
    "#     mean_pred = y_pred_w.mean()\n",
    "#     licznik__ = y_pred_w[dane_leki['Zbiór']=='w'] - logKHSA[dane_leki['Zbiór']=='w']\n",
    "#     licznik = sum(licznik__**2)\n",
    "#     mianownik__ = y_pred_w - mean_pred\n",
    "#     mianownik = sum(mianownik__**2)\n",
    "#     return 1 - (licznik / mianownik)"
   ]
  },
  {
   "cell_type": "markdown",
   "metadata": {},
   "source": [
    "DRZEWA "
   ]
  },
  {
   "cell_type": "code",
   "execution_count": 81,
   "metadata": {},
   "outputs": [],
   "source": [
    "dane_drzewo = pd.read_excel('./spr3/dane_nano1.xlsx')\n",
    "size_deskryptor = dane_drzewo['Size']\n",
    "ssa_deskryptor = dane_drzewo['SSA']"
   ]
  },
  {
   "cell_type": "code",
   "execution_count": 82,
   "metadata": {},
   "outputs": [],
   "source": [
    "deskryptory = dane_drzewo[['Size','SSA']]\n",
    "zmienna_zalezna_drzewo = dane_drzewo['Protein carbonylation (A-1/I-0)']"
   ]
  },
  {
   "cell_type": "code",
   "execution_count": 83,
   "metadata": {},
   "outputs": [],
   "source": [
    "X_train, X_test,y_train,y_test = train_test_split(deskryptory[:10],zmienna_zalezna_drzewo[:10],test_size=0.3, random_state=0)"
   ]
  },
  {
   "cell_type": "code",
   "execution_count": 84,
   "metadata": {},
   "outputs": [],
   "source": [
    "from sklearn import tree\n",
    "from sklearn.tree import DecisionTreeClassifier"
   ]
  },
  {
   "cell_type": "code",
   "execution_count": 85,
   "metadata": {},
   "outputs": [],
   "source": [
    "clf = DecisionTreeClassifier()\n",
    "clf = clf.fit(X_train,y_train)\n",
    "y_pred = clf.predict(X_test)"
   ]
  },
  {
   "cell_type": "code",
   "execution_count": 86,
   "metadata": {},
   "outputs": [
    {
     "data": {
      "text/plain": [
       "[Text(0.4, 0.8333333333333334, 'S <= 12.5\\ngini = 0.49\\nsamples = 7\\nvalue = [4, 3]\\nclass = Inactive'),\n",
       " Text(0.2, 0.5, 'gini = 0.0\\nsamples = 3\\nvalue = [3, 0]\\nclass = Inactive'),\n",
       " Text(0.6, 0.5, 'i <= 125.5\\ngini = 0.375\\nsamples = 4\\nvalue = [1, 3]\\nclass = Active'),\n",
       " Text(0.4, 0.16666666666666666, 'gini = 0.0\\nsamples = 1\\nvalue = [0, 1]\\nclass = Active'),\n",
       " Text(0.8, 0.16666666666666666, 'gini = 0.444\\nsamples = 3\\nvalue = [1, 2]\\nclass = Active')]"
      ]
     },
     "execution_count": 86,
     "metadata": {},
     "output_type": "execute_result"
    },
    {
     "data": {
      "image/png": "[encoded data removed]",
      "text/plain": [
       "<Figure size 1500x750 with 1 Axes>"
      ]
     },
     "metadata": {},
     "output_type": "display_data"
    }
   ],
   "source": [
    "plt.figure(figsize = (15,7.5))\n",
    "tree.plot_tree(clf,feature_names = dane_drzewo.columns[2],class_names=['Inactive',\"Active\"])"
   ]
  },
  {
   "cell_type": "markdown",
   "metadata": {},
   "source": [
    "Stats"
   ]
  },
  {
   "cell_type": "code",
   "execution_count": 87,
   "metadata": {},
   "outputs": [
    {
     "data": {
      "text/plain": [
       "0.6666666666666666"
      ]
     },
     "execution_count": 87,
     "metadata": {},
     "output_type": "execute_result"
    }
   ],
   "source": [
    "metrics.accuracy_score(y_test,y_pred)"
   ]
  },
  {
   "cell_type": "code",
   "execution_count": 88,
   "metadata": {},
   "outputs": [
    {
     "data": {
      "text/plain": [
       "array([1., 0., 1.])"
      ]
     },
     "execution_count": 88,
     "metadata": {},
     "output_type": "execute_result"
    }
   ],
   "source": [
    "y_pred"
   ]
  },
  {
   "cell_type": "code",
   "execution_count": 89,
   "metadata": {},
   "outputs": [
    {
     "data": {
      "text/plain": [
       "array([[1, 1],\n",
       "       [0, 1]], dtype=int64)"
      ]
     },
     "execution_count": 89,
     "metadata": {},
     "output_type": "execute_result"
    }
   ],
   "source": [
    "from sklearn.metrics import confusion_matrix,plot_confusion_matrix\n",
    "conf_matrix = confusion_matrix(y_test,y_pred)\n",
    "conf_matrix\n"
   ]
  },
  {
   "cell_type": "code",
   "execution_count": 90,
   "metadata": {},
   "outputs": [
    {
     "name": "stderr",
     "output_type": "stream",
     "text": [
      "C:\\Users\\Michał\\AppData\\Roaming\\Python\\Python39\\site-packages\\sklearn\\utils\\deprecation.py:87: FutureWarning: Function plot_confusion_matrix is deprecated; Function `plot_confusion_matrix` is deprecated in 1.0 and will be removed in 1.2. Use one of the class methods: ConfusionMatrixDisplay.from_predictions or ConfusionMatrixDisplay.from_estimator.\n",
      "  warnings.warn(msg, category=FutureWarning)\n"
     ]
    },
    {
     "data": {
      "text/plain": [
       "<sklearn.metrics._plot.confusion_matrix.ConfusionMatrixDisplay at 0x1c5e14851c0>"
      ]
     },
     "execution_count": 90,
     "metadata": {},
     "output_type": "execute_result"
    },
    {
     "data": {
      "image/png": "[encoded data removed]",
      "text/plain": [
       "<Figure size 800x550 with 2 Axes>"
      ]
     },
     "metadata": {},
     "output_type": "display_data"
    }
   ],
   "source": [
    "plot_confusion_matrix(clf, X_test, y_test)"
   ]
  },
  {
   "cell_type": "code",
   "execution_count": 91,
   "metadata": {},
   "outputs": [
    {
     "name": "stdout",
     "output_type": "stream",
     "text": [
      "              precision    recall  f1-score   support\n",
      "\n",
      "         0.0       1.00      0.50      0.67         2\n",
      "         1.0       0.50      1.00      0.67         1\n",
      "\n",
      "    accuracy                           0.67         3\n",
      "   macro avg       0.75      0.75      0.67         3\n",
      "weighted avg       0.83      0.67      0.67         3\n",
      "\n"
     ]
    }
   ],
   "source": [
    "from sklearn.metrics import classification_report\n",
    "print(classification_report(y_test,y_pred))"
   ]
  },
  {
   "cell_type": "code",
   "execution_count": 92,
   "metadata": {},
   "outputs": [
    {
     "data": {
      "text/plain": [
       "array([1., 1., 0., 1., 1., 1., 1., 1., 1.])"
      ]
     },
     "execution_count": 92,
     "metadata": {},
     "output_type": "execute_result"
    }
   ],
   "source": [
    "y_pred_done = clf.predict(deskryptory[10:])\n",
    "y_pred_done"
   ]
  },
  {
   "cell_type": "code",
   "execution_count": 101,
   "metadata": {},
   "outputs": [
    {
     "data": {
      "text/plain": [
       "nan"
      ]
     },
     "execution_count": 101,
     "metadata": {},
     "output_type": "execute_result"
    }
   ],
   "source": [
    "dane_drzewo['Protein carbonylation (A-1/I-0)'].iloc[10]"
   ]
  },
  {
   "cell_type": "code",
   "execution_count": 109,
   "metadata": {},
   "outputs": [
    {
     "data": {
      "text/plain": [
       "19"
      ]
     },
     "execution_count": 109,
     "metadata": {},
     "output_type": "execute_result"
    }
   ],
   "source": [
    "len(dane_drzewo)"
   ]
  },
  {
   "cell_type": "code",
   "execution_count": 110,
   "metadata": {},
   "outputs": [
    {
     "name": "stderr",
     "output_type": "stream",
     "text": [
      "C:\\Users\\Michał\\AppData\\Local\\Temp\\ipykernel_12120\\3502667959.py:2: SettingWithCopyWarning: \n",
      "A value is trying to be set on a copy of a slice from a DataFrame\n",
      "\n",
      "See the caveats in the documentation: https://pandas.pydata.org/pandas-docs/stable/user_guide/indexing.html#returning-a-view-versus-a-copy\n",
      "  dane_drzewo['Protein carbonylation (A-1/I-0)'].iloc[i] = y_pred_done[i]\n"
     ]
    }
   ],
   "source": [
    "for i in range(10,len(dane_drzewo)):\n",
    "    dane_drzewo['Protein carbonylation (A-1/I-0)'].iloc[i] = y_pred_done[i]"
   ]
  }
 ],
 "metadata": {
  "kernelspec": {
   "display_name": "Python 3.9.10 64-bit",
   "language": "python",
   "name": "python3"
  },
  "language_info": {
   "codemirror_mode": {
    "name": "ipython",
    "version": 3
   },
   "file_extension": ".py",
   "mimetype": "text/x-python",
   "name": "python",
   "nbconvert_exporter": "python",
   "pygments_lexer": "ipython3",
   "version": "3.9.10"
  },
  "orig_nbformat": 4,
  "vscode": {
   "interpreter": {
    "hash": "11938c6bc6919ae2720b4d5011047913343b08a43b18698fd82dedb0d4417594"
   }
  }
 },
 "nbformat": 4,
 "nbformat_minor": 2
}
